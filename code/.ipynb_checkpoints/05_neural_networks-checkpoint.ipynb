{
 "cells": [
  {
   "cell_type": "markdown",
   "metadata": {},
   "source": [
    "### Importing libraries"
   ]
  },
  {
   "cell_type": "code",
   "execution_count": 1,
   "metadata": {},
   "outputs": [],
   "source": [
    "import pandas as pd\n",
    "import numpy as np\n",
    "import matplotlib.pyplot as plt\n",
    "import tensorflow as tf\n",
    "from sklearn.model_selection import train_test_split\n",
    "\n",
    "from sklearn.linear_model import LogisticRegressionCV\n",
    "from sklearn.preprocessing import StandardScaler\n",
    "\n",
    "from sklearn.metrics import f1_score, precision_score, recall_score, roc_auc_score, confusion_matrix\n",
    "from sklearn.ensemble import GradientBoostingClassifier\n",
    "from tensorflow.keras.models import Sequential\n",
    "from tensorflow.keras.layers import Dense\n",
    "from tensorflow.keras.callbacks import EarlyStopping\n",
    "from tensorflow.keras import metrics as tfmet\n",
    "from tensorflow.keras import utils"
   ]
  },
  {
   "cell_type": "markdown",
   "metadata": {},
   "source": [
    "### Importing DataFrames"
   ]
  },
  {
   "cell_type": "code",
   "execution_count": 2,
   "metadata": {},
   "outputs": [],
   "source": [
    "df = pd.read_csv('./data/train.csv')\n",
    "df_test = pd.read_csv('./data/test.csv')"
   ]
  },
  {
   "cell_type": "markdown",
   "metadata": {},
   "source": [
    "### Examining training (labeled) dataframe"
   ]
  },
  {
   "cell_type": "code",
   "execution_count": 3,
   "metadata": {},
   "outputs": [
    {
     "data": {
      "text/html": [
       "<div>\n",
       "<style scoped>\n",
       "    .dataframe tbody tr th:only-of-type {\n",
       "        vertical-align: middle;\n",
       "    }\n",
       "\n",
       "    .dataframe tbody tr th {\n",
       "        vertical-align: top;\n",
       "    }\n",
       "\n",
       "    .dataframe thead th {\n",
       "        text-align: right;\n",
       "    }\n",
       "</style>\n",
       "<table border=\"1\" class=\"dataframe\">\n",
       "  <thead>\n",
       "    <tr style=\"text-align: right;\">\n",
       "      <th></th>\n",
       "      <th>Unique ID</th>\n",
       "      <th>Age</th>\n",
       "      <th>year</th>\n",
       "      <th>month</th>\n",
       "      <th>week_of_year</th>\n",
       "      <th>day_of_month</th>\n",
       "      <th>day_of_week</th>\n",
       "      <th>day_of_year</th>\n",
       "      <th>pop2000</th>\n",
       "      <th>pop2010</th>\n",
       "      <th>...</th>\n",
       "      <th>Intended use of force (Developing)_Vehicle</th>\n",
       "      <th>Foreknowledge of mental illness? INTERNAL USE, NOT FOR ANALYSIS_No</th>\n",
       "      <th>Foreknowledge of mental illness? INTERNAL USE, NOT FOR ANALYSIS_Unknown</th>\n",
       "      <th>Foreknowledge of mental illness? INTERNAL USE, NOT FOR ANALYSIS_Yes</th>\n",
       "      <th>Agency_multiple_agencies</th>\n",
       "      <th>Agency_other</th>\n",
       "      <th>Agency_police</th>\n",
       "      <th>Agency_sheriff</th>\n",
       "      <th>description</th>\n",
       "      <th>Race</th>\n",
       "    </tr>\n",
       "  </thead>\n",
       "  <tbody>\n",
       "    <tr>\n",
       "      <th>0</th>\n",
       "      <td>1.0</td>\n",
       "      <td>24.0</td>\n",
       "      <td>2000.0</td>\n",
       "      <td>1.0</td>\n",
       "      <td>1.0</td>\n",
       "      <td>2.0</td>\n",
       "      <td>6.0</td>\n",
       "      <td>2.0</td>\n",
       "      <td>1223499.0</td>\n",
       "      <td>1418788</td>\n",
       "      <td>...</td>\n",
       "      <td>0</td>\n",
       "      <td>1</td>\n",
       "      <td>0</td>\n",
       "      <td>0</td>\n",
       "      <td>0</td>\n",
       "      <td>0</td>\n",
       "      <td>1</td>\n",
       "      <td>0</td>\n",
       "      <td>LaTanya Janelle McCoy's car was struck from be...</td>\n",
       "      <td>African-American/Black</td>\n",
       "    </tr>\n",
       "    <tr>\n",
       "      <th>1</th>\n",
       "      <td>4.0</td>\n",
       "      <td>45.0</td>\n",
       "      <td>2000.0</td>\n",
       "      <td>1.0</td>\n",
       "      <td>1.0</td>\n",
       "      <td>5.0</td>\n",
       "      <td>2.0</td>\n",
       "      <td>5.0</td>\n",
       "      <td>88787.0</td>\n",
       "      <td>101547</td>\n",
       "      <td>...</td>\n",
       "      <td>0</td>\n",
       "      <td>0</td>\n",
       "      <td>1</td>\n",
       "      <td>0</td>\n",
       "      <td>0</td>\n",
       "      <td>0</td>\n",
       "      <td>1</td>\n",
       "      <td>0</td>\n",
       "      <td>John Edward Pittman was shot and killed by off...</td>\n",
       "      <td>African-American/Black</td>\n",
       "    </tr>\n",
       "    <tr>\n",
       "      <th>2</th>\n",
       "      <td>5.0</td>\n",
       "      <td>20.0</td>\n",
       "      <td>2000.0</td>\n",
       "      <td>1.0</td>\n",
       "      <td>1.0</td>\n",
       "      <td>5.0</td>\n",
       "      <td>2.0</td>\n",
       "      <td>5.0</td>\n",
       "      <td>816006.0</td>\n",
       "      <td>920581</td>\n",
       "      <td>...</td>\n",
       "      <td>0</td>\n",
       "      <td>0</td>\n",
       "      <td>0</td>\n",
       "      <td>0</td>\n",
       "      <td>0</td>\n",
       "      <td>0</td>\n",
       "      <td>1</td>\n",
       "      <td>0</td>\n",
       "      <td>On Jan. 5 around midnight, 20-year-old John Fr...</td>\n",
       "      <td>African-American/Black</td>\n",
       "    </tr>\n",
       "    <tr>\n",
       "      <th>3</th>\n",
       "      <td>6.0</td>\n",
       "      <td>19.0</td>\n",
       "      <td>2000.0</td>\n",
       "      <td>1.0</td>\n",
       "      <td>1.0</td>\n",
       "      <td>6.0</td>\n",
       "      <td>3.0</td>\n",
       "      <td>6.0</td>\n",
       "      <td>14598.0</td>\n",
       "      <td>13665</td>\n",
       "      <td>...</td>\n",
       "      <td>0</td>\n",
       "      <td>1</td>\n",
       "      <td>0</td>\n",
       "      <td>0</td>\n",
       "      <td>0</td>\n",
       "      <td>0</td>\n",
       "      <td>1</td>\n",
       "      <td>0</td>\n",
       "      <td>Kyle Dillon allegedly walked up to officer Jas...</td>\n",
       "      <td>European-American/White</td>\n",
       "    </tr>\n",
       "    <tr>\n",
       "      <th>4</th>\n",
       "      <td>14.0</td>\n",
       "      <td>26.0</td>\n",
       "      <td>2000.0</td>\n",
       "      <td>1.0</td>\n",
       "      <td>2.0</td>\n",
       "      <td>10.0</td>\n",
       "      <td>0.0</td>\n",
       "      <td>10.0</td>\n",
       "      <td>1517550.0</td>\n",
       "      <td>1526006</td>\n",
       "      <td>...</td>\n",
       "      <td>0</td>\n",
       "      <td>1</td>\n",
       "      <td>0</td>\n",
       "      <td>0</td>\n",
       "      <td>0</td>\n",
       "      <td>0</td>\n",
       "      <td>1</td>\n",
       "      <td>0</td>\n",
       "      <td>An Army veteran and West Chester University st...</td>\n",
       "      <td>African-American/Black</td>\n",
       "    </tr>\n",
       "  </tbody>\n",
       "</table>\n",
       "<p>5 rows × 273 columns</p>\n",
       "</div>"
      ],
      "text/plain": [
       "   Unique ID   Age    year  month  week_of_year  day_of_month  day_of_week  \\\n",
       "0        1.0  24.0  2000.0    1.0           1.0           2.0          6.0   \n",
       "1        4.0  45.0  2000.0    1.0           1.0           5.0          2.0   \n",
       "2        5.0  20.0  2000.0    1.0           1.0           5.0          2.0   \n",
       "3        6.0  19.0  2000.0    1.0           1.0           6.0          3.0   \n",
       "4       14.0  26.0  2000.0    1.0           2.0          10.0          0.0   \n",
       "\n",
       "   day_of_year    pop2000  pop2010  ...  \\\n",
       "0          2.0  1223499.0  1418788  ...   \n",
       "1          5.0    88787.0   101547  ...   \n",
       "2          5.0   816006.0   920581  ...   \n",
       "3          6.0    14598.0    13665  ...   \n",
       "4         10.0  1517550.0  1526006  ...   \n",
       "\n",
       "   Intended use of force (Developing)_Vehicle  \\\n",
       "0                                           0   \n",
       "1                                           0   \n",
       "2                                           0   \n",
       "3                                           0   \n",
       "4                                           0   \n",
       "\n",
       "   Foreknowledge of mental illness? INTERNAL USE, NOT FOR ANALYSIS_No  \\\n",
       "0                                                  1                    \n",
       "1                                                  0                    \n",
       "2                                                  0                    \n",
       "3                                                  1                    \n",
       "4                                                  1                    \n",
       "\n",
       "   Foreknowledge of mental illness? INTERNAL USE, NOT FOR ANALYSIS_Unknown  \\\n",
       "0                                                  0                         \n",
       "1                                                  1                         \n",
       "2                                                  0                         \n",
       "3                                                  0                         \n",
       "4                                                  0                         \n",
       "\n",
       "   Foreknowledge of mental illness? INTERNAL USE, NOT FOR ANALYSIS_Yes  \\\n",
       "0                                                  0                     \n",
       "1                                                  0                     \n",
       "2                                                  0                     \n",
       "3                                                  0                     \n",
       "4                                                  0                     \n",
       "\n",
       "   Agency_multiple_agencies  Agency_other  Agency_police  Agency_sheriff  \\\n",
       "0                         0             0              1               0   \n",
       "1                         0             0              1               0   \n",
       "2                         0             0              1               0   \n",
       "3                         0             0              1               0   \n",
       "4                         0             0              1               0   \n",
       "\n",
       "                                         description                     Race  \n",
       "0  LaTanya Janelle McCoy's car was struck from be...   African-American/Black  \n",
       "1  John Edward Pittman was shot and killed by off...   African-American/Black  \n",
       "2  On Jan. 5 around midnight, 20-year-old John Fr...   African-American/Black  \n",
       "3  Kyle Dillon allegedly walked up to officer Jas...  European-American/White  \n",
       "4  An Army veteran and West Chester University st...   African-American/Black  \n",
       "\n",
       "[5 rows x 273 columns]"
      ]
     },
     "execution_count": 3,
     "metadata": {},
     "output_type": "execute_result"
    }
   ],
   "source": [
    "df.head()"
   ]
  },
  {
   "cell_type": "markdown",
   "metadata": {},
   "source": [
    "### Defining a function that converts racial category strings into numbers"
   ]
  },
  {
   "cell_type": "code",
   "execution_count": 4,
   "metadata": {},
   "outputs": [],
   "source": [
    "def numerizer(x):\n",
    "    if x == 'African-American/Black':\n",
    "        return 0\n",
    "    if x =='Asian/Pacific Islander':\n",
    "        return 1\n",
    "    if x == 'European-American/White':\n",
    "        return 2\n",
    "    if x == 'Hispanic/Latino': \n",
    "        return 3\n",
    "    if x == 'Middle Eastern':\n",
    "        return 4\n",
    "    if x == 'Native American/Alaskan':\n",
    "        return 5"
   ]
  },
  {
   "cell_type": "markdown",
   "metadata": {},
   "source": [
    "### Applying function to Race column"
   ]
  },
  {
   "cell_type": "code",
   "execution_count": 5,
   "metadata": {},
   "outputs": [],
   "source": [
    "df['Race'] = df['Race'].apply(lambda x: numerizer(x))"
   ]
  },
  {
   "cell_type": "markdown",
   "metadata": {},
   "source": [
    "### Checking dataframe"
   ]
  },
  {
   "cell_type": "code",
   "execution_count": 6,
   "metadata": {},
   "outputs": [
    {
     "data": {
      "text/html": [
       "<div>\n",
       "<style scoped>\n",
       "    .dataframe tbody tr th:only-of-type {\n",
       "        vertical-align: middle;\n",
       "    }\n",
       "\n",
       "    .dataframe tbody tr th {\n",
       "        vertical-align: top;\n",
       "    }\n",
       "\n",
       "    .dataframe thead th {\n",
       "        text-align: right;\n",
       "    }\n",
       "</style>\n",
       "<table border=\"1\" class=\"dataframe\">\n",
       "  <thead>\n",
       "    <tr style=\"text-align: right;\">\n",
       "      <th></th>\n",
       "      <th>Unique ID</th>\n",
       "      <th>Age</th>\n",
       "      <th>year</th>\n",
       "      <th>month</th>\n",
       "      <th>week_of_year</th>\n",
       "      <th>day_of_month</th>\n",
       "      <th>day_of_week</th>\n",
       "      <th>day_of_year</th>\n",
       "      <th>pop2000</th>\n",
       "      <th>pop2010</th>\n",
       "      <th>...</th>\n",
       "      <th>Intended use of force (Developing)_Vehicle</th>\n",
       "      <th>Foreknowledge of mental illness? INTERNAL USE, NOT FOR ANALYSIS_No</th>\n",
       "      <th>Foreknowledge of mental illness? INTERNAL USE, NOT FOR ANALYSIS_Unknown</th>\n",
       "      <th>Foreknowledge of mental illness? INTERNAL USE, NOT FOR ANALYSIS_Yes</th>\n",
       "      <th>Agency_multiple_agencies</th>\n",
       "      <th>Agency_other</th>\n",
       "      <th>Agency_police</th>\n",
       "      <th>Agency_sheriff</th>\n",
       "      <th>description</th>\n",
       "      <th>Race</th>\n",
       "    </tr>\n",
       "  </thead>\n",
       "  <tbody>\n",
       "    <tr>\n",
       "      <th>0</th>\n",
       "      <td>1.0</td>\n",
       "      <td>24.0</td>\n",
       "      <td>2000.0</td>\n",
       "      <td>1.0</td>\n",
       "      <td>1.0</td>\n",
       "      <td>2.0</td>\n",
       "      <td>6.0</td>\n",
       "      <td>2.0</td>\n",
       "      <td>1223499.0</td>\n",
       "      <td>1418788</td>\n",
       "      <td>...</td>\n",
       "      <td>0</td>\n",
       "      <td>1</td>\n",
       "      <td>0</td>\n",
       "      <td>0</td>\n",
       "      <td>0</td>\n",
       "      <td>0</td>\n",
       "      <td>1</td>\n",
       "      <td>0</td>\n",
       "      <td>LaTanya Janelle McCoy's car was struck from be...</td>\n",
       "      <td>0</td>\n",
       "    </tr>\n",
       "    <tr>\n",
       "      <th>1</th>\n",
       "      <td>4.0</td>\n",
       "      <td>45.0</td>\n",
       "      <td>2000.0</td>\n",
       "      <td>1.0</td>\n",
       "      <td>1.0</td>\n",
       "      <td>5.0</td>\n",
       "      <td>2.0</td>\n",
       "      <td>5.0</td>\n",
       "      <td>88787.0</td>\n",
       "      <td>101547</td>\n",
       "      <td>...</td>\n",
       "      <td>0</td>\n",
       "      <td>0</td>\n",
       "      <td>1</td>\n",
       "      <td>0</td>\n",
       "      <td>0</td>\n",
       "      <td>0</td>\n",
       "      <td>1</td>\n",
       "      <td>0</td>\n",
       "      <td>John Edward Pittman was shot and killed by off...</td>\n",
       "      <td>0</td>\n",
       "    </tr>\n",
       "    <tr>\n",
       "      <th>2</th>\n",
       "      <td>5.0</td>\n",
       "      <td>20.0</td>\n",
       "      <td>2000.0</td>\n",
       "      <td>1.0</td>\n",
       "      <td>1.0</td>\n",
       "      <td>5.0</td>\n",
       "      <td>2.0</td>\n",
       "      <td>5.0</td>\n",
       "      <td>816006.0</td>\n",
       "      <td>920581</td>\n",
       "      <td>...</td>\n",
       "      <td>0</td>\n",
       "      <td>0</td>\n",
       "      <td>0</td>\n",
       "      <td>0</td>\n",
       "      <td>0</td>\n",
       "      <td>0</td>\n",
       "      <td>1</td>\n",
       "      <td>0</td>\n",
       "      <td>On Jan. 5 around midnight, 20-year-old John Fr...</td>\n",
       "      <td>0</td>\n",
       "    </tr>\n",
       "    <tr>\n",
       "      <th>3</th>\n",
       "      <td>6.0</td>\n",
       "      <td>19.0</td>\n",
       "      <td>2000.0</td>\n",
       "      <td>1.0</td>\n",
       "      <td>1.0</td>\n",
       "      <td>6.0</td>\n",
       "      <td>3.0</td>\n",
       "      <td>6.0</td>\n",
       "      <td>14598.0</td>\n",
       "      <td>13665</td>\n",
       "      <td>...</td>\n",
       "      <td>0</td>\n",
       "      <td>1</td>\n",
       "      <td>0</td>\n",
       "      <td>0</td>\n",
       "      <td>0</td>\n",
       "      <td>0</td>\n",
       "      <td>1</td>\n",
       "      <td>0</td>\n",
       "      <td>Kyle Dillon allegedly walked up to officer Jas...</td>\n",
       "      <td>2</td>\n",
       "    </tr>\n",
       "    <tr>\n",
       "      <th>4</th>\n",
       "      <td>14.0</td>\n",
       "      <td>26.0</td>\n",
       "      <td>2000.0</td>\n",
       "      <td>1.0</td>\n",
       "      <td>2.0</td>\n",
       "      <td>10.0</td>\n",
       "      <td>0.0</td>\n",
       "      <td>10.0</td>\n",
       "      <td>1517550.0</td>\n",
       "      <td>1526006</td>\n",
       "      <td>...</td>\n",
       "      <td>0</td>\n",
       "      <td>1</td>\n",
       "      <td>0</td>\n",
       "      <td>0</td>\n",
       "      <td>0</td>\n",
       "      <td>0</td>\n",
       "      <td>1</td>\n",
       "      <td>0</td>\n",
       "      <td>An Army veteran and West Chester University st...</td>\n",
       "      <td>0</td>\n",
       "    </tr>\n",
       "  </tbody>\n",
       "</table>\n",
       "<p>5 rows × 273 columns</p>\n",
       "</div>"
      ],
      "text/plain": [
       "   Unique ID   Age    year  month  week_of_year  day_of_month  day_of_week  \\\n",
       "0        1.0  24.0  2000.0    1.0           1.0           2.0          6.0   \n",
       "1        4.0  45.0  2000.0    1.0           1.0           5.0          2.0   \n",
       "2        5.0  20.0  2000.0    1.0           1.0           5.0          2.0   \n",
       "3        6.0  19.0  2000.0    1.0           1.0           6.0          3.0   \n",
       "4       14.0  26.0  2000.0    1.0           2.0          10.0          0.0   \n",
       "\n",
       "   day_of_year    pop2000  pop2010  ...  \\\n",
       "0          2.0  1223499.0  1418788  ...   \n",
       "1          5.0    88787.0   101547  ...   \n",
       "2          5.0   816006.0   920581  ...   \n",
       "3          6.0    14598.0    13665  ...   \n",
       "4         10.0  1517550.0  1526006  ...   \n",
       "\n",
       "   Intended use of force (Developing)_Vehicle  \\\n",
       "0                                           0   \n",
       "1                                           0   \n",
       "2                                           0   \n",
       "3                                           0   \n",
       "4                                           0   \n",
       "\n",
       "   Foreknowledge of mental illness? INTERNAL USE, NOT FOR ANALYSIS_No  \\\n",
       "0                                                  1                    \n",
       "1                                                  0                    \n",
       "2                                                  0                    \n",
       "3                                                  1                    \n",
       "4                                                  1                    \n",
       "\n",
       "   Foreknowledge of mental illness? INTERNAL USE, NOT FOR ANALYSIS_Unknown  \\\n",
       "0                                                  0                         \n",
       "1                                                  1                         \n",
       "2                                                  0                         \n",
       "3                                                  0                         \n",
       "4                                                  0                         \n",
       "\n",
       "   Foreknowledge of mental illness? INTERNAL USE, NOT FOR ANALYSIS_Yes  \\\n",
       "0                                                  0                     \n",
       "1                                                  0                     \n",
       "2                                                  0                     \n",
       "3                                                  0                     \n",
       "4                                                  0                     \n",
       "\n",
       "   Agency_multiple_agencies  Agency_other  Agency_police  Agency_sheriff  \\\n",
       "0                         0             0              1               0   \n",
       "1                         0             0              1               0   \n",
       "2                         0             0              1               0   \n",
       "3                         0             0              1               0   \n",
       "4                         0             0              1               0   \n",
       "\n",
       "                                         description  Race  \n",
       "0  LaTanya Janelle McCoy's car was struck from be...     0  \n",
       "1  John Edward Pittman was shot and killed by off...     0  \n",
       "2  On Jan. 5 around midnight, 20-year-old John Fr...     0  \n",
       "3  Kyle Dillon allegedly walked up to officer Jas...     2  \n",
       "4  An Army veteran and West Chester University st...     0  \n",
       "\n",
       "[5 rows x 273 columns]"
      ]
     },
     "execution_count": 6,
     "metadata": {},
     "output_type": "execute_result"
    }
   ],
   "source": [
    "df.head()"
   ]
  },
  {
   "cell_type": "markdown",
   "metadata": {},
   "source": [
    "### Defining X and y variables"
   ]
  },
  {
   "cell_type": "code",
   "execution_count": 7,
   "metadata": {},
   "outputs": [],
   "source": [
    "X = df.drop(columns = ['Unique ID', 'description', 'Race'])\n",
    "y = df['Race']"
   ]
  },
  {
   "cell_type": "markdown",
   "metadata": {},
   "source": [
    "### Train test split"
   ]
  },
  {
   "cell_type": "code",
   "execution_count": 8,
   "metadata": {},
   "outputs": [],
   "source": [
    "X_train, X_test, y_train, y_test = train_test_split(X, y, random_state = 42, stratify = y)"
   ]
  },
  {
   "cell_type": "markdown",
   "metadata": {},
   "source": [
    "### Instantiating Standard Scaler"
   ]
  },
  {
   "cell_type": "code",
   "execution_count": 9,
   "metadata": {},
   "outputs": [],
   "source": [
    "sc = StandardScaler()"
   ]
  },
  {
   "cell_type": "markdown",
   "metadata": {},
   "source": [
    "#### Fitting and transforming training data, transforming testing data"
   ]
  },
  {
   "cell_type": "code",
   "execution_count": 10,
   "metadata": {},
   "outputs": [],
   "source": [
    "X_train = sc.fit_transform(X_train)\n",
    "X_test = sc.transform(X_test)"
   ]
  },
  {
   "cell_type": "markdown",
   "metadata": {},
   "source": [
    "### Dummifying y variables"
   ]
  },
  {
   "cell_type": "code",
   "execution_count": 11,
   "metadata": {},
   "outputs": [],
   "source": [
    "y_train = utils.to_categorical(y_train, 6)\n",
    "y_test = utils.to_categorical(y_test, 6)"
   ]
  },
  {
   "cell_type": "markdown",
   "metadata": {},
   "source": [
    "### Instantiating neural network and creating structure"
   ]
  },
  {
   "cell_type": "code",
   "execution_count": 12,
   "metadata": {
    "scrolled": false
   },
   "outputs": [],
   "source": [
    "model = Sequential()\n",
    "model.add(Dense(64, activation = 'relu'))\n",
    "model.add(Dense(128, activation = 'relu'))\n",
    "model.add(Dense(64, activation = 'relu'))\n",
    "model.add(Dense(32, activation = 'relu'))\n",
    "model.add(Dense(6, activation = 'softmax'))"
   ]
  },
  {
   "cell_type": "markdown",
   "metadata": {},
   "source": [
    "### Compiling neural network"
   ]
  },
  {
   "cell_type": "code",
   "execution_count": 13,
   "metadata": {},
   "outputs": [],
   "source": [
    "model.compile(loss = 'categorical_crossentropy',\n",
    "           optimizer = 'adam',\n",
    "           metrics = ['accuracy'])"
   ]
  },
  {
   "cell_type": "markdown",
   "metadata": {},
   "source": [
    "### Instantiating early stop"
   ]
  },
  {
   "cell_type": "code",
   "execution_count": 14,
   "metadata": {},
   "outputs": [],
   "source": [
    "early_stop = EarlyStopping(monitor='val_loss', min_delta=0, patience=5, verbose=1, mode='auto')"
   ]
  },
  {
   "cell_type": "markdown",
   "metadata": {},
   "source": [
    "### Fitting neural network model over training data"
   ]
  },
  {
   "cell_type": "code",
   "execution_count": 15,
   "metadata": {},
   "outputs": [
    {
     "name": "stdout",
     "output_type": "stream",
     "text": [
      "Epoch 1/100\n",
      "58/58 [==============================] - 1s 9ms/step - loss: 0.9913 - accuracy: 0.6169 - val_loss: 0.7011 - val_accuracy: 0.7359\n",
      "Epoch 2/100\n",
      "58/58 [==============================] - 0s 4ms/step - loss: 0.5776 - accuracy: 0.7847 - val_loss: 0.5445 - val_accuracy: 0.7976\n",
      "Epoch 3/100\n",
      "58/58 [==============================] - 0s 4ms/step - loss: 0.4995 - accuracy: 0.8122 - val_loss: 0.5250 - val_accuracy: 0.7978\n",
      "Epoch 4/100\n",
      "58/58 [==============================] - 0s 5ms/step - loss: 0.4814 - accuracy: 0.8205 - val_loss: 0.5280 - val_accuracy: 0.7966\n",
      "Epoch 5/100\n",
      "58/58 [==============================] - 0s 5ms/step - loss: 0.4649 - accuracy: 0.8256 - val_loss: 0.5184 - val_accuracy: 0.8035\n",
      "Epoch 6/100\n",
      "58/58 [==============================] - 0s 5ms/step - loss: 0.4539 - accuracy: 0.8262 - val_loss: 0.5312 - val_accuracy: 0.7925\n",
      "Epoch 7/100\n",
      "58/58 [==============================] - 0s 6ms/step - loss: 0.4415 - accuracy: 0.8314 - val_loss: 0.5263 - val_accuracy: 0.7948\n",
      "Epoch 8/100\n",
      "58/58 [==============================] - 0s 5ms/step - loss: 0.4336 - accuracy: 0.8345 - val_loss: 0.5285 - val_accuracy: 0.7989\n",
      "Epoch 9/100\n",
      "58/58 [==============================] - 0s 5ms/step - loss: 0.4243 - accuracy: 0.8376 - val_loss: 0.5297 - val_accuracy: 0.7991\n",
      "Epoch 10/100\n",
      "58/58 [==============================] - 0s 5ms/step - loss: 0.4133 - accuracy: 0.8427 - val_loss: 0.5329 - val_accuracy: 0.7966\n",
      "Epoch 00010: early stopping\n"
     ]
    }
   ],
   "source": [
    "history = model.fit(X_train, y_train, validation_data = (X_test, y_test),\n",
    "                 batch_size = 256,\n",
    "                 epochs = 100,\n",
    "                 verbose = 1,\n",
    "                 callbacks=[early_stop])"
   ]
  },
  {
   "cell_type": "markdown",
   "metadata": {},
   "source": [
    "### Plotting training and testing accuracy scores from neural network"
   ]
  },
  {
   "cell_type": "code",
   "execution_count": 16,
   "metadata": {},
   "outputs": [
    {
     "data": {
      "image/png": "[encoded data removed]",
      "text/plain": [
       "<Figure size 864x576 with 1 Axes>"
      ]
     },
     "metadata": {
      "needs_background": "light"
     },
     "output_type": "display_data"
    }
   ],
   "source": [
    "train_loss = history.history['accuracy']\n",
    "test_loss = history.history['val_accuracy']\n",
    "\n",
    "plt.figure(figsize=(12, 8))\n",
    "\n",
    "plt.plot(train_loss, label='Training Accuracy', color='#185fad')\n",
    "plt.plot(test_loss, label='Testing Accuracy', color='orange')\n",
    "\n",
    "plt.title('Training and Testing Accuracy by Epoch', fontsize = 25)\n",
    "plt.xlabel('Epoch', fontsize = 18)\n",
    "plt.ylabel('Accuracy', fontsize = 18)\n",
    "plt.xticks(np.arange(11), np.arange(11))\n",
    "\n",
    "plt.legend(fontsize = 18);\n"
   ]
  }
 ],
 "metadata": {
  "kernelspec": {
   "display_name": "Python 3",
   "language": "python",
   "name": "python3"
  },
  "language_info": {
   "codemirror_mode": {
    "name": "ipython",
    "version": 3
   },
   "file_extension": ".py",
   "mimetype": "text/x-python",
   "name": "python",
   "nbconvert_exporter": "python",
   "pygments_lexer": "ipython3",
   "version": "3.8.5"
  }
 },
 "nbformat": 4,
 "nbformat_minor": 4
}
