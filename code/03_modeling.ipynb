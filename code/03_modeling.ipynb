{
 "cells": [
  {
   "cell_type": "markdown",
   "metadata": {},
   "source": [
    "## Importing Libraries"
   ]
  },
  {
   "cell_type": "code",
   "execution_count": 1,
   "metadata": {},
   "outputs": [],
   "source": [
    "import pandas as pd\n",
    "import numpy as np\n",
    "import matplotlib.pyplot as plt\n",
    "import seaborn as sns\n",
    "\n",
    "from sklearn.feature_extraction.text import TfidfVectorizer\n",
    "from sklearn.preprocessing import StandardScaler, LabelEncoder\n",
    "\n",
    "from sklearn.linear_model import LogisticRegression, RidgeClassifier\n",
    "from sklearn.neighbors import KNeighborsClassifier\n",
    "from sklearn.tree import DecisionTreeClassifier\n",
    "from sklearn.ensemble import BaggingClassifier, RandomForestClassifier, AdaBoostClassifier, ExtraTreesClassifier, GradientBoostingClassifier \n",
    "from sklearn.svm import SVC\n",
    "import xgboost as xgb\n",
    "from sklearn.metrics import confusion_matrix, plot_confusion_matrix\n",
    "from sklearn.metrics import recall_score, precision_score, accuracy_score, f1_score\n",
    "\n",
    "from sklearn import metrics\n",
    "from sklearn.metrics import mean_squared_error\n",
    "\n",
    "from sklearn.pipeline import Pipeline\n",
    "from sklearn.model_selection import GridSearchCV, RandomizedSearchCV, train_test_split\n",
    "\n"
   ]
  },
  {
   "cell_type": "markdown",
   "metadata": {},
   "source": [
    "## Importing DataFrames"
   ]
  },
  {
   "cell_type": "code",
   "execution_count": 2,
   "metadata": {},
   "outputs": [
    {
     "name": "stderr",
     "output_type": "stream",
     "text": [
      "/Users/trevorodonnell/opt/anaconda3/lib/python3.8/site-packages/IPython/core/interactiveshell.py:3146: DtypeWarning: Columns (2,15,26) have mixed types.Specify dtype option on import or set low_memory=False.\n",
      "  has_raised = await self.run_ast_nodes(code_ast.body, cell_name,\n"
     ]
    }
   ],
   "source": [
    "df = pd.read_csv('./data/train.csv')\n",
    "df_test = pd.read_csv('./data/test.csv')\n",
    "df_cluster = pd.read_csv('./data/cluster.csv')\n",
    "df_original = pd.read_csv('./data/incidents.csv')"
   ]
  },
  {
   "cell_type": "code",
   "execution_count": 3,
   "metadata": {},
   "outputs": [],
   "source": [
    "### Dropping unnecessary columns"
   ]
  },
  {
   "cell_type": "code",
   "execution_count": 4,
   "metadata": {},
   "outputs": [],
   "source": [
    "#df = df.drop(columns= ['Unique ID', 'description'])\n",
    "df_test_mod = df_test.drop(columns= ['Unique ID', 'description', 'Race'])"
   ]
  },
  {
   "cell_type": "code",
   "execution_count": 5,
   "metadata": {},
   "outputs": [],
   "source": [
    "### Checking training dataframe shape"
   ]
  },
  {
   "cell_type": "code",
   "execution_count": 6,
   "metadata": {},
   "outputs": [
    {
     "data": {
      "text/plain": [
       "(19628, 273)"
      ]
     },
     "execution_count": 6,
     "metadata": {},
     "output_type": "execute_result"
    }
   ],
   "source": [
    "df.shape"
   ]
  },
  {
   "cell_type": "code",
   "execution_count": 7,
   "metadata": {},
   "outputs": [],
   "source": [
    "### Checking testing dataframe shape"
   ]
  },
  {
   "cell_type": "code",
   "execution_count": 8,
   "metadata": {},
   "outputs": [
    {
     "data": {
      "text/plain": [
       "(6379, 273)"
      ]
     },
     "execution_count": 8,
     "metadata": {},
     "output_type": "execute_result"
    }
   ],
   "source": [
    "df_test.shape"
   ]
  },
  {
   "cell_type": "code",
   "execution_count": null,
   "metadata": {},
   "outputs": [],
   "source": []
  },
  {
   "cell_type": "code",
   "execution_count": 9,
   "metadata": {},
   "outputs": [
    {
     "data": {
      "text/html": [
       "<div>\n",
       "<style scoped>\n",
       "    .dataframe tbody tr th:only-of-type {\n",
       "        vertical-align: middle;\n",
       "    }\n",
       "\n",
       "    .dataframe tbody tr th {\n",
       "        vertical-align: top;\n",
       "    }\n",
       "\n",
       "    .dataframe thead th {\n",
       "        text-align: right;\n",
       "    }\n",
       "</style>\n",
       "<table border=\"1\" class=\"dataframe\">\n",
       "  <thead>\n",
       "    <tr style=\"text-align: right;\">\n",
       "      <th></th>\n",
       "      <th>Unique ID</th>\n",
       "      <th>Age</th>\n",
       "      <th>year</th>\n",
       "      <th>month</th>\n",
       "      <th>week_of_year</th>\n",
       "      <th>day_of_month</th>\n",
       "      <th>day_of_week</th>\n",
       "      <th>day_of_year</th>\n",
       "      <th>pop2000</th>\n",
       "      <th>pop2010</th>\n",
       "      <th>...</th>\n",
       "      <th>Intended use of force (Developing)_Vehicle</th>\n",
       "      <th>Foreknowledge of mental illness? INTERNAL USE, NOT FOR ANALYSIS_No</th>\n",
       "      <th>Foreknowledge of mental illness? INTERNAL USE, NOT FOR ANALYSIS_Unknown</th>\n",
       "      <th>Foreknowledge of mental illness? INTERNAL USE, NOT FOR ANALYSIS_Yes</th>\n",
       "      <th>Agency_multiple_agencies</th>\n",
       "      <th>Agency_other</th>\n",
       "      <th>Agency_police</th>\n",
       "      <th>Agency_sheriff</th>\n",
       "      <th>description</th>\n",
       "      <th>Race</th>\n",
       "    </tr>\n",
       "  </thead>\n",
       "  <tbody>\n",
       "    <tr>\n",
       "      <th>0</th>\n",
       "      <td>2.0</td>\n",
       "      <td>53.0</td>\n",
       "      <td>2000.0</td>\n",
       "      <td>1.0</td>\n",
       "      <td>1.0</td>\n",
       "      <td>2.0</td>\n",
       "      <td>6.0</td>\n",
       "      <td>2.0</td>\n",
       "      <td>665865.0</td>\n",
       "      <td>691893</td>\n",
       "      <td>...</td>\n",
       "      <td>0</td>\n",
       "      <td>1</td>\n",
       "      <td>0</td>\n",
       "      <td>0</td>\n",
       "      <td>0</td>\n",
       "      <td>0</td>\n",
       "      <td>0</td>\n",
       "      <td>1</td>\n",
       "      <td>Darren Mayfield, a DeKalb County sheriff's dep...</td>\n",
       "      <td>Race unspecified</td>\n",
       "    </tr>\n",
       "    <tr>\n",
       "      <th>1</th>\n",
       "      <td>3.0</td>\n",
       "      <td>23.0</td>\n",
       "      <td>2000.0</td>\n",
       "      <td>1.0</td>\n",
       "      <td>1.0</td>\n",
       "      <td>5.0</td>\n",
       "      <td>2.0</td>\n",
       "      <td>5.0</td>\n",
       "      <td>39678.0</td>\n",
       "      <td>38950</td>\n",
       "      <td>...</td>\n",
       "      <td>0</td>\n",
       "      <td>1</td>\n",
       "      <td>0</td>\n",
       "      <td>0</td>\n",
       "      <td>0</td>\n",
       "      <td>0</td>\n",
       "      <td>1</td>\n",
       "      <td>0</td>\n",
       "      <td>Officer Elias E. Mendiola shot Derrick E. Tate...</td>\n",
       "      <td>Race unspecified</td>\n",
       "    </tr>\n",
       "    <tr>\n",
       "      <th>2</th>\n",
       "      <td>7.0</td>\n",
       "      <td>23.0</td>\n",
       "      <td>2000.0</td>\n",
       "      <td>1.0</td>\n",
       "      <td>1.0</td>\n",
       "      <td>6.0</td>\n",
       "      <td>3.0</td>\n",
       "      <td>6.0</td>\n",
       "      <td>695454.0</td>\n",
       "      <td>919628</td>\n",
       "      <td>...</td>\n",
       "      <td>0</td>\n",
       "      <td>1</td>\n",
       "      <td>0</td>\n",
       "      <td>0</td>\n",
       "      <td>1</td>\n",
       "      <td>0</td>\n",
       "      <td>0</td>\n",
       "      <td>0</td>\n",
       "      <td>State troopers and county deputies had tracked...</td>\n",
       "      <td>Race unspecified</td>\n",
       "    </tr>\n",
       "    <tr>\n",
       "      <th>3</th>\n",
       "      <td>8.0</td>\n",
       "      <td>31.0</td>\n",
       "      <td>2000.0</td>\n",
       "      <td>1.0</td>\n",
       "      <td>1.0</td>\n",
       "      <td>6.0</td>\n",
       "      <td>3.0</td>\n",
       "      <td>6.0</td>\n",
       "      <td>1709434.0</td>\n",
       "      <td>2035210</td>\n",
       "      <td>...</td>\n",
       "      <td>0</td>\n",
       "      <td>0</td>\n",
       "      <td>1</td>\n",
       "      <td>0</td>\n",
       "      <td>1</td>\n",
       "      <td>0</td>\n",
       "      <td>0</td>\n",
       "      <td>0</td>\n",
       "      <td>SWAT officers shot and killed Adrian Dolby sho...</td>\n",
       "      <td>Race unspecified</td>\n",
       "    </tr>\n",
       "    <tr>\n",
       "      <th>4</th>\n",
       "      <td>10.0</td>\n",
       "      <td>28.0</td>\n",
       "      <td>2000.0</td>\n",
       "      <td>1.0</td>\n",
       "      <td>1.0</td>\n",
       "      <td>7.0</td>\n",
       "      <td>4.0</td>\n",
       "      <td>7.0</td>\n",
       "      <td>9519338.0</td>\n",
       "      <td>9818605</td>\n",
       "      <td>...</td>\n",
       "      <td>0</td>\n",
       "      <td>0</td>\n",
       "      <td>1</td>\n",
       "      <td>0</td>\n",
       "      <td>0</td>\n",
       "      <td>0</td>\n",
       "      <td>1</td>\n",
       "      <td>0</td>\n",
       "      <td>Joseph Gumpert stopped breathing after a scuff...</td>\n",
       "      <td>Race unspecified</td>\n",
       "    </tr>\n",
       "  </tbody>\n",
       "</table>\n",
       "<p>5 rows × 273 columns</p>\n",
       "</div>"
      ],
      "text/plain": [
       "   Unique ID   Age    year  month  week_of_year  day_of_month  day_of_week  \\\n",
       "0        2.0  53.0  2000.0    1.0           1.0           2.0          6.0   \n",
       "1        3.0  23.0  2000.0    1.0           1.0           5.0          2.0   \n",
       "2        7.0  23.0  2000.0    1.0           1.0           6.0          3.0   \n",
       "3        8.0  31.0  2000.0    1.0           1.0           6.0          3.0   \n",
       "4       10.0  28.0  2000.0    1.0           1.0           7.0          4.0   \n",
       "\n",
       "   day_of_year    pop2000  pop2010  ...  \\\n",
       "0          2.0   665865.0   691893  ...   \n",
       "1          5.0    39678.0    38950  ...   \n",
       "2          6.0   695454.0   919628  ...   \n",
       "3          6.0  1709434.0  2035210  ...   \n",
       "4          7.0  9519338.0  9818605  ...   \n",
       "\n",
       "   Intended use of force (Developing)_Vehicle  \\\n",
       "0                                           0   \n",
       "1                                           0   \n",
       "2                                           0   \n",
       "3                                           0   \n",
       "4                                           0   \n",
       "\n",
       "   Foreknowledge of mental illness? INTERNAL USE, NOT FOR ANALYSIS_No  \\\n",
       "0                                                  1                    \n",
       "1                                                  1                    \n",
       "2                                                  1                    \n",
       "3                                                  0                    \n",
       "4                                                  0                    \n",
       "\n",
       "   Foreknowledge of mental illness? INTERNAL USE, NOT FOR ANALYSIS_Unknown  \\\n",
       "0                                                  0                         \n",
       "1                                                  0                         \n",
       "2                                                  0                         \n",
       "3                                                  1                         \n",
       "4                                                  1                         \n",
       "\n",
       "   Foreknowledge of mental illness? INTERNAL USE, NOT FOR ANALYSIS_Yes  \\\n",
       "0                                                  0                     \n",
       "1                                                  0                     \n",
       "2                                                  0                     \n",
       "3                                                  0                     \n",
       "4                                                  0                     \n",
       "\n",
       "   Agency_multiple_agencies  Agency_other  Agency_police  Agency_sheriff  \\\n",
       "0                         0             0              0               1   \n",
       "1                         0             0              1               0   \n",
       "2                         1             0              0               0   \n",
       "3                         1             0              0               0   \n",
       "4                         0             0              1               0   \n",
       "\n",
       "                                         description              Race  \n",
       "0  Darren Mayfield, a DeKalb County sheriff's dep...  Race unspecified  \n",
       "1  Officer Elias E. Mendiola shot Derrick E. Tate...  Race unspecified  \n",
       "2  State troopers and county deputies had tracked...  Race unspecified  \n",
       "3  SWAT officers shot and killed Adrian Dolby sho...  Race unspecified  \n",
       "4  Joseph Gumpert stopped breathing after a scuff...  Race unspecified  \n",
       "\n",
       "[5 rows x 273 columns]"
      ]
     },
     "execution_count": 9,
     "metadata": {},
     "output_type": "execute_result"
    }
   ],
   "source": [
    "df_test.head()"
   ]
  },
  {
   "cell_type": "code",
   "execution_count": 10,
   "metadata": {},
   "outputs": [],
   "source": [
    "### Retreiving baseline score from normalized value counts from race variable "
   ]
  },
  {
   "cell_type": "code",
   "execution_count": 11,
   "metadata": {},
   "outputs": [
    {
     "data": {
      "text/plain": [
       "European-American/White    0.475596\n",
       "African-American/Black     0.316334\n",
       "Hispanic/Latino            0.176075\n",
       "Asian/Pacific Islander     0.018035\n",
       "Native American/Alaskan    0.012686\n",
       "Middle Eastern             0.001274\n",
       "Name: Race, dtype: float64"
      ]
     },
     "execution_count": 11,
     "metadata": {},
     "output_type": "execute_result"
    }
   ],
   "source": [
    "df['Race'].value_counts(normalize=True)"
   ]
  },
  {
   "cell_type": "code",
   "execution_count": 12,
   "metadata": {},
   "outputs": [],
   "source": [
    "### Creating dataframe from normalized value counts of race variable"
   ]
  },
  {
   "cell_type": "code",
   "execution_count": 13,
   "metadata": {},
   "outputs": [],
   "source": [
    "df_vals = pd.DataFrame(df['Race'].value_counts(normalize=True))"
   ]
  },
  {
   "cell_type": "code",
   "execution_count": 14,
   "metadata": {},
   "outputs": [],
   "source": [
    "### Visualizing normalized value counts of race variable"
   ]
  },
  {
   "cell_type": "code",
   "execution_count": 15,
   "metadata": {},
   "outputs": [
    {
     "data": {
      "image/png": "[encoded data removed]",
      "text/plain": [
       "<Figure size 432x288 with 1 Axes>"
      ]
     },
     "metadata": {
      "needs_background": "light"
     },
     "output_type": "display_data"
    }
   ],
   "source": [
    "df_vals.plot.barh();"
   ]
  },
  {
   "cell_type": "code",
   "execution_count": 16,
   "metadata": {},
   "outputs": [],
   "source": [
    "### Creating X and y"
   ]
  },
  {
   "cell_type": "code",
   "execution_count": 17,
   "metadata": {},
   "outputs": [],
   "source": [
    "X = df.drop(columns = ['Race', 'Unique ID', 'description'])\n",
    "y = df['Race']"
   ]
  },
  {
   "cell_type": "code",
   "execution_count": 18,
   "metadata": {},
   "outputs": [],
   "source": [
    "X_train, X_test, y_train, y_test = train_test_split(X, y, random_state = 42, stratify=y)"
   ]
  },
  {
   "cell_type": "code",
   "execution_count": 19,
   "metadata": {},
   "outputs": [],
   "source": [
    "### Scaling data"
   ]
  },
  {
   "cell_type": "code",
   "execution_count": 20,
   "metadata": {},
   "outputs": [],
   "source": [
    "sc = StandardScaler()\n",
    "Xsc_train = sc.fit_transform(X_train)\n",
    "Xsc_test = sc.transform(X_test)"
   ]
  },
  {
   "cell_type": "code",
   "execution_count": 21,
   "metadata": {},
   "outputs": [],
   "source": [
    "### Instantiating logistic regression"
   ]
  },
  {
   "cell_type": "code",
   "execution_count": 22,
   "metadata": {},
   "outputs": [],
   "source": [
    "logreg = LogisticRegression(max_iter=50000)"
   ]
  },
  {
   "cell_type": "code",
   "execution_count": 23,
   "metadata": {},
   "outputs": [],
   "source": [
    "### Fitting logisitic regression on training data"
   ]
  },
  {
   "cell_type": "code",
   "execution_count": 24,
   "metadata": {},
   "outputs": [
    {
     "data": {
      "text/plain": [
       "LogisticRegression(max_iter=50000)"
      ]
     },
     "execution_count": 24,
     "metadata": {},
     "output_type": "execute_result"
    }
   ],
   "source": [
    "logreg.fit(Xsc_train, y_train)"
   ]
  },
  {
   "cell_type": "markdown",
   "metadata": {},
   "source": [
    "### Accuracy scores for training and testing data"
   ]
  },
  {
   "cell_type": "code",
   "execution_count": 25,
   "metadata": {},
   "outputs": [
    {
     "data": {
      "text/plain": [
       "0.8233815637524625"
      ]
     },
     "execution_count": 25,
     "metadata": {},
     "output_type": "execute_result"
    }
   ],
   "source": [
    "logreg.score(Xsc_train, y_train)"
   ]
  },
  {
   "cell_type": "code",
   "execution_count": 26,
   "metadata": {},
   "outputs": [
    {
     "data": {
      "text/plain": [
       "0.8029345832484206"
      ]
     },
     "execution_count": 26,
     "metadata": {},
     "output_type": "execute_result"
    }
   ],
   "source": [
    "logreg.score(Xsc_test, y_test)"
   ]
  },
  {
   "cell_type": "markdown",
   "metadata": {},
   "source": [
    "### Getting predicitons on testing data (wihtin the training set)"
   ]
  },
  {
   "cell_type": "code",
   "execution_count": 27,
   "metadata": {},
   "outputs": [],
   "source": [
    "y_preds = logreg.predict(Xsc_test)"
   ]
  },
  {
   "cell_type": "code",
   "execution_count": 28,
   "metadata": {},
   "outputs": [],
   "source": [
    "train_set_preds = pd.DataFrame(y_preds)"
   ]
  },
  {
   "cell_type": "code",
   "execution_count": 29,
   "metadata": {},
   "outputs": [],
   "source": [
    "train_set_probs = logreg.predict_proba(Xsc_test)"
   ]
  },
  {
   "cell_type": "code",
   "execution_count": 30,
   "metadata": {
    "scrolled": true
   },
   "outputs": [],
   "source": [
    "train_set_probs = pd.DataFrame(train_set_probs)"
   ]
  },
  {
   "cell_type": "code",
   "execution_count": 31,
   "metadata": {
    "scrolled": true
   },
   "outputs": [],
   "source": [
    "train_set_probs = pd.DataFrame(train_set_probs.apply(max, axis = 1)) #second column"
   ]
  },
  {
   "cell_type": "code",
   "execution_count": 32,
   "metadata": {},
   "outputs": [
    {
     "data": {
      "text/html": [
       "<div>\n",
       "<style scoped>\n",
       "    .dataframe tbody tr th:only-of-type {\n",
       "        vertical-align: middle;\n",
       "    }\n",
       "\n",
       "    .dataframe tbody tr th {\n",
       "        vertical-align: top;\n",
       "    }\n",
       "\n",
       "    .dataframe thead th {\n",
       "        text-align: right;\n",
       "    }\n",
       "</style>\n",
       "<table border=\"1\" class=\"dataframe\">\n",
       "  <thead>\n",
       "    <tr style=\"text-align: right;\">\n",
       "      <th></th>\n",
       "      <th>0</th>\n",
       "    </tr>\n",
       "  </thead>\n",
       "  <tbody>\n",
       "    <tr>\n",
       "      <th>0</th>\n",
       "      <td>0.386531</td>\n",
       "    </tr>\n",
       "    <tr>\n",
       "      <th>1</th>\n",
       "      <td>0.483632</td>\n",
       "    </tr>\n",
       "    <tr>\n",
       "      <th>2</th>\n",
       "      <td>0.936873</td>\n",
       "    </tr>\n",
       "    <tr>\n",
       "      <th>3</th>\n",
       "      <td>0.622313</td>\n",
       "    </tr>\n",
       "    <tr>\n",
       "      <th>4</th>\n",
       "      <td>0.632706</td>\n",
       "    </tr>\n",
       "    <tr>\n",
       "      <th>...</th>\n",
       "      <td>...</td>\n",
       "    </tr>\n",
       "    <tr>\n",
       "      <th>4902</th>\n",
       "      <td>0.744312</td>\n",
       "    </tr>\n",
       "    <tr>\n",
       "      <th>4903</th>\n",
       "      <td>0.980879</td>\n",
       "    </tr>\n",
       "    <tr>\n",
       "      <th>4904</th>\n",
       "      <td>0.574908</td>\n",
       "    </tr>\n",
       "    <tr>\n",
       "      <th>4905</th>\n",
       "      <td>0.982463</td>\n",
       "    </tr>\n",
       "    <tr>\n",
       "      <th>4906</th>\n",
       "      <td>0.695578</td>\n",
       "    </tr>\n",
       "  </tbody>\n",
       "</table>\n",
       "<p>4907 rows × 1 columns</p>\n",
       "</div>"
      ],
      "text/plain": [
       "             0\n",
       "0     0.386531\n",
       "1     0.483632\n",
       "2     0.936873\n",
       "3     0.622313\n",
       "4     0.632706\n",
       "...        ...\n",
       "4902  0.744312\n",
       "4903  0.980879\n",
       "4904  0.574908\n",
       "4905  0.982463\n",
       "4906  0.695578\n",
       "\n",
       "[4907 rows x 1 columns]"
      ]
     },
     "execution_count": 32,
     "metadata": {},
     "output_type": "execute_result"
    }
   ],
   "source": [
    "train_set_probs"
   ]
  },
  {
   "cell_type": "markdown",
   "metadata": {},
   "source": [
    "## Logistic Regression Predictions on Unlabeled Data"
   ]
  },
  {
   "cell_type": "markdown",
   "metadata": {},
   "source": [
    "### Examining test data"
   ]
  },
  {
   "cell_type": "code",
   "execution_count": 33,
   "metadata": {},
   "outputs": [
    {
     "data": {
      "text/html": [
       "<div>\n",
       "<style scoped>\n",
       "    .dataframe tbody tr th:only-of-type {\n",
       "        vertical-align: middle;\n",
       "    }\n",
       "\n",
       "    .dataframe tbody tr th {\n",
       "        vertical-align: top;\n",
       "    }\n",
       "\n",
       "    .dataframe thead th {\n",
       "        text-align: right;\n",
       "    }\n",
       "</style>\n",
       "<table border=\"1\" class=\"dataframe\">\n",
       "  <thead>\n",
       "    <tr style=\"text-align: right;\">\n",
       "      <th></th>\n",
       "      <th>Unique ID</th>\n",
       "      <th>Age</th>\n",
       "      <th>year</th>\n",
       "      <th>month</th>\n",
       "      <th>week_of_year</th>\n",
       "      <th>day_of_month</th>\n",
       "      <th>day_of_week</th>\n",
       "      <th>day_of_year</th>\n",
       "      <th>pop2000</th>\n",
       "      <th>pop2010</th>\n",
       "      <th>...</th>\n",
       "      <th>Intended use of force (Developing)_Vehicle</th>\n",
       "      <th>Foreknowledge of mental illness? INTERNAL USE, NOT FOR ANALYSIS_No</th>\n",
       "      <th>Foreknowledge of mental illness? INTERNAL USE, NOT FOR ANALYSIS_Unknown</th>\n",
       "      <th>Foreknowledge of mental illness? INTERNAL USE, NOT FOR ANALYSIS_Yes</th>\n",
       "      <th>Agency_multiple_agencies</th>\n",
       "      <th>Agency_other</th>\n",
       "      <th>Agency_police</th>\n",
       "      <th>Agency_sheriff</th>\n",
       "      <th>description</th>\n",
       "      <th>Race</th>\n",
       "    </tr>\n",
       "  </thead>\n",
       "  <tbody>\n",
       "    <tr>\n",
       "      <th>0</th>\n",
       "      <td>2.0</td>\n",
       "      <td>53.0</td>\n",
       "      <td>2000.0</td>\n",
       "      <td>1.0</td>\n",
       "      <td>1.0</td>\n",
       "      <td>2.0</td>\n",
       "      <td>6.0</td>\n",
       "      <td>2.0</td>\n",
       "      <td>665865.0</td>\n",
       "      <td>691893</td>\n",
       "      <td>...</td>\n",
       "      <td>0</td>\n",
       "      <td>1</td>\n",
       "      <td>0</td>\n",
       "      <td>0</td>\n",
       "      <td>0</td>\n",
       "      <td>0</td>\n",
       "      <td>0</td>\n",
       "      <td>1</td>\n",
       "      <td>Darren Mayfield, a DeKalb County sheriff's dep...</td>\n",
       "      <td>Race unspecified</td>\n",
       "    </tr>\n",
       "    <tr>\n",
       "      <th>1</th>\n",
       "      <td>3.0</td>\n",
       "      <td>23.0</td>\n",
       "      <td>2000.0</td>\n",
       "      <td>1.0</td>\n",
       "      <td>1.0</td>\n",
       "      <td>5.0</td>\n",
       "      <td>2.0</td>\n",
       "      <td>5.0</td>\n",
       "      <td>39678.0</td>\n",
       "      <td>38950</td>\n",
       "      <td>...</td>\n",
       "      <td>0</td>\n",
       "      <td>1</td>\n",
       "      <td>0</td>\n",
       "      <td>0</td>\n",
       "      <td>0</td>\n",
       "      <td>0</td>\n",
       "      <td>1</td>\n",
       "      <td>0</td>\n",
       "      <td>Officer Elias E. Mendiola shot Derrick E. Tate...</td>\n",
       "      <td>Race unspecified</td>\n",
       "    </tr>\n",
       "    <tr>\n",
       "      <th>2</th>\n",
       "      <td>7.0</td>\n",
       "      <td>23.0</td>\n",
       "      <td>2000.0</td>\n",
       "      <td>1.0</td>\n",
       "      <td>1.0</td>\n",
       "      <td>6.0</td>\n",
       "      <td>3.0</td>\n",
       "      <td>6.0</td>\n",
       "      <td>695454.0</td>\n",
       "      <td>919628</td>\n",
       "      <td>...</td>\n",
       "      <td>0</td>\n",
       "      <td>1</td>\n",
       "      <td>0</td>\n",
       "      <td>0</td>\n",
       "      <td>1</td>\n",
       "      <td>0</td>\n",
       "      <td>0</td>\n",
       "      <td>0</td>\n",
       "      <td>State troopers and county deputies had tracked...</td>\n",
       "      <td>Race unspecified</td>\n",
       "    </tr>\n",
       "    <tr>\n",
       "      <th>3</th>\n",
       "      <td>8.0</td>\n",
       "      <td>31.0</td>\n",
       "      <td>2000.0</td>\n",
       "      <td>1.0</td>\n",
       "      <td>1.0</td>\n",
       "      <td>6.0</td>\n",
       "      <td>3.0</td>\n",
       "      <td>6.0</td>\n",
       "      <td>1709434.0</td>\n",
       "      <td>2035210</td>\n",
       "      <td>...</td>\n",
       "      <td>0</td>\n",
       "      <td>0</td>\n",
       "      <td>1</td>\n",
       "      <td>0</td>\n",
       "      <td>1</td>\n",
       "      <td>0</td>\n",
       "      <td>0</td>\n",
       "      <td>0</td>\n",
       "      <td>SWAT officers shot and killed Adrian Dolby sho...</td>\n",
       "      <td>Race unspecified</td>\n",
       "    </tr>\n",
       "    <tr>\n",
       "      <th>4</th>\n",
       "      <td>10.0</td>\n",
       "      <td>28.0</td>\n",
       "      <td>2000.0</td>\n",
       "      <td>1.0</td>\n",
       "      <td>1.0</td>\n",
       "      <td>7.0</td>\n",
       "      <td>4.0</td>\n",
       "      <td>7.0</td>\n",
       "      <td>9519338.0</td>\n",
       "      <td>9818605</td>\n",
       "      <td>...</td>\n",
       "      <td>0</td>\n",
       "      <td>0</td>\n",
       "      <td>1</td>\n",
       "      <td>0</td>\n",
       "      <td>0</td>\n",
       "      <td>0</td>\n",
       "      <td>1</td>\n",
       "      <td>0</td>\n",
       "      <td>Joseph Gumpert stopped breathing after a scuff...</td>\n",
       "      <td>Race unspecified</td>\n",
       "    </tr>\n",
       "  </tbody>\n",
       "</table>\n",
       "<p>5 rows × 273 columns</p>\n",
       "</div>"
      ],
      "text/plain": [
       "   Unique ID   Age    year  month  week_of_year  day_of_month  day_of_week  \\\n",
       "0        2.0  53.0  2000.0    1.0           1.0           2.0          6.0   \n",
       "1        3.0  23.0  2000.0    1.0           1.0           5.0          2.0   \n",
       "2        7.0  23.0  2000.0    1.0           1.0           6.0          3.0   \n",
       "3        8.0  31.0  2000.0    1.0           1.0           6.0          3.0   \n",
       "4       10.0  28.0  2000.0    1.0           1.0           7.0          4.0   \n",
       "\n",
       "   day_of_year    pop2000  pop2010  ...  \\\n",
       "0          2.0   665865.0   691893  ...   \n",
       "1          5.0    39678.0    38950  ...   \n",
       "2          6.0   695454.0   919628  ...   \n",
       "3          6.0  1709434.0  2035210  ...   \n",
       "4          7.0  9519338.0  9818605  ...   \n",
       "\n",
       "   Intended use of force (Developing)_Vehicle  \\\n",
       "0                                           0   \n",
       "1                                           0   \n",
       "2                                           0   \n",
       "3                                           0   \n",
       "4                                           0   \n",
       "\n",
       "   Foreknowledge of mental illness? INTERNAL USE, NOT FOR ANALYSIS_No  \\\n",
       "0                                                  1                    \n",
       "1                                                  1                    \n",
       "2                                                  1                    \n",
       "3                                                  0                    \n",
       "4                                                  0                    \n",
       "\n",
       "   Foreknowledge of mental illness? INTERNAL USE, NOT FOR ANALYSIS_Unknown  \\\n",
       "0                                                  0                         \n",
       "1                                                  0                         \n",
       "2                                                  0                         \n",
       "3                                                  1                         \n",
       "4                                                  1                         \n",
       "\n",
       "   Foreknowledge of mental illness? INTERNAL USE, NOT FOR ANALYSIS_Yes  \\\n",
       "0                                                  0                     \n",
       "1                                                  0                     \n",
       "2                                                  0                     \n",
       "3                                                  0                     \n",
       "4                                                  0                     \n",
       "\n",
       "   Agency_multiple_agencies  Agency_other  Agency_police  Agency_sheriff  \\\n",
       "0                         0             0              0               1   \n",
       "1                         0             0              1               0   \n",
       "2                         1             0              0               0   \n",
       "3                         1             0              0               0   \n",
       "4                         0             0              1               0   \n",
       "\n",
       "                                         description              Race  \n",
       "0  Darren Mayfield, a DeKalb County sheriff's dep...  Race unspecified  \n",
       "1  Officer Elias E. Mendiola shot Derrick E. Tate...  Race unspecified  \n",
       "2  State troopers and county deputies had tracked...  Race unspecified  \n",
       "3  SWAT officers shot and killed Adrian Dolby sho...  Race unspecified  \n",
       "4  Joseph Gumpert stopped breathing after a scuff...  Race unspecified  \n",
       "\n",
       "[5 rows x 273 columns]"
      ]
     },
     "execution_count": 33,
     "metadata": {},
     "output_type": "execute_result"
    }
   ],
   "source": [
    "df_test.head()"
   ]
  },
  {
   "cell_type": "markdown",
   "metadata": {},
   "source": [
    "### Scaling test data"
   ]
  },
  {
   "cell_type": "code",
   "execution_count": 34,
   "metadata": {},
   "outputs": [],
   "source": [
    "df_test_scale = sc.transform(df_test_mod)"
   ]
  },
  {
   "cell_type": "markdown",
   "metadata": {},
   "source": [
    "### Creating a dataframe for the predictions of the logistic regression"
   ]
  },
  {
   "cell_type": "code",
   "execution_count": 35,
   "metadata": {},
   "outputs": [],
   "source": [
    "test_set_preds = pd.DataFrame(logreg.predict(df_test_scale))"
   ]
  },
  {
   "cell_type": "code",
   "execution_count": 36,
   "metadata": {},
   "outputs": [],
   "source": [
    "test_set_preds = test_set_preds.rename(columns= {0:'to_race_imputations'})"
   ]
  },
  {
   "cell_type": "markdown",
   "metadata": {},
   "source": [
    "### Creating a dataframe for the prediction probabilities from the logistic regression"
   ]
  },
  {
   "cell_type": "code",
   "execution_count": 37,
   "metadata": {},
   "outputs": [],
   "source": [
    "test_set_probs = logreg.predict_proba(df_test_scale)"
   ]
  },
  {
   "cell_type": "code",
   "execution_count": 38,
   "metadata": {},
   "outputs": [],
   "source": [
    "test_set_probs = pd.DataFrame(test_set_probs)"
   ]
  },
  {
   "cell_type": "code",
   "execution_count": 39,
   "metadata": {},
   "outputs": [],
   "source": [
    "test_set_probs = pd.DataFrame(test_set_probs.apply(max, axis = 1)) "
   ]
  },
  {
   "cell_type": "code",
   "execution_count": 40,
   "metadata": {
    "scrolled": false
   },
   "outputs": [],
   "source": [
    "test_set_probs = test_set_probs.rename(columns={0:\"to_imputation_probability\"})"
   ]
  },
  {
   "cell_type": "code",
   "execution_count": 41,
   "metadata": {},
   "outputs": [],
   "source": [
    "test_preds_probs = pd.concat((test_set_preds,test_set_probs), axis = 1)"
   ]
  },
  {
   "cell_type": "code",
   "execution_count": 42,
   "metadata": {},
   "outputs": [],
   "source": [
    "df_new = pd.concat((df_test,test_preds_probs), axis = 1)"
   ]
  },
  {
   "cell_type": "code",
   "execution_count": 43,
   "metadata": {},
   "outputs": [],
   "source": [
    "df_new = df_new[['Unique ID', 'Race', 'to_race_imputations', 'to_imputation_probability']]"
   ]
  },
  {
   "cell_type": "code",
   "execution_count": 44,
   "metadata": {},
   "outputs": [
    {
     "data": {
      "text/html": [
       "<div>\n",
       "<style scoped>\n",
       "    .dataframe tbody tr th:only-of-type {\n",
       "        vertical-align: middle;\n",
       "    }\n",
       "\n",
       "    .dataframe tbody tr th {\n",
       "        vertical-align: top;\n",
       "    }\n",
       "\n",
       "    .dataframe thead th {\n",
       "        text-align: right;\n",
       "    }\n",
       "</style>\n",
       "<table border=\"1\" class=\"dataframe\">\n",
       "  <thead>\n",
       "    <tr style=\"text-align: right;\">\n",
       "      <th></th>\n",
       "      <th>Unique ID</th>\n",
       "      <th>Race</th>\n",
       "      <th>to_race_imputations</th>\n",
       "      <th>to_imputation_probability</th>\n",
       "    </tr>\n",
       "  </thead>\n",
       "  <tbody>\n",
       "    <tr>\n",
       "      <th>0</th>\n",
       "      <td>2.0</td>\n",
       "      <td>Race unspecified</td>\n",
       "      <td>African-American/Black</td>\n",
       "      <td>0.536669</td>\n",
       "    </tr>\n",
       "    <tr>\n",
       "      <th>1</th>\n",
       "      <td>3.0</td>\n",
       "      <td>Race unspecified</td>\n",
       "      <td>African-American/Black</td>\n",
       "      <td>0.591266</td>\n",
       "    </tr>\n",
       "    <tr>\n",
       "      <th>2</th>\n",
       "      <td>7.0</td>\n",
       "      <td>Race unspecified</td>\n",
       "      <td>African-American/Black</td>\n",
       "      <td>0.542160</td>\n",
       "    </tr>\n",
       "    <tr>\n",
       "      <th>3</th>\n",
       "      <td>8.0</td>\n",
       "      <td>Race unspecified</td>\n",
       "      <td>European-American/White</td>\n",
       "      <td>0.833870</td>\n",
       "    </tr>\n",
       "    <tr>\n",
       "      <th>4</th>\n",
       "      <td>10.0</td>\n",
       "      <td>Race unspecified</td>\n",
       "      <td>European-American/White</td>\n",
       "      <td>0.599186</td>\n",
       "    </tr>\n",
       "    <tr>\n",
       "      <th>...</th>\n",
       "      <td>...</td>\n",
       "      <td>...</td>\n",
       "      <td>...</td>\n",
       "      <td>...</td>\n",
       "    </tr>\n",
       "    <tr>\n",
       "      <th>6374</th>\n",
       "      <td>29392.0</td>\n",
       "      <td>Race unspecified</td>\n",
       "      <td>European-American/White</td>\n",
       "      <td>0.504457</td>\n",
       "    </tr>\n",
       "    <tr>\n",
       "      <th>6375</th>\n",
       "      <td>29410.0</td>\n",
       "      <td>Race unspecified</td>\n",
       "      <td>European-American/White</td>\n",
       "      <td>0.965566</td>\n",
       "    </tr>\n",
       "    <tr>\n",
       "      <th>6376</th>\n",
       "      <td>29416.0</td>\n",
       "      <td>Race unspecified</td>\n",
       "      <td>European-American/White</td>\n",
       "      <td>0.993696</td>\n",
       "    </tr>\n",
       "    <tr>\n",
       "      <th>6377</th>\n",
       "      <td>29735.0</td>\n",
       "      <td>Race unspecified</td>\n",
       "      <td>Hispanic/Latino</td>\n",
       "      <td>0.950131</td>\n",
       "    </tr>\n",
       "    <tr>\n",
       "      <th>6378</th>\n",
       "      <td>30078.0</td>\n",
       "      <td>Race unspecified</td>\n",
       "      <td>European-American/White</td>\n",
       "      <td>0.851784</td>\n",
       "    </tr>\n",
       "  </tbody>\n",
       "</table>\n",
       "<p>6379 rows × 4 columns</p>\n",
       "</div>"
      ],
      "text/plain": [
       "      Unique ID              Race      to_race_imputations  \\\n",
       "0           2.0  Race unspecified   African-American/Black   \n",
       "1           3.0  Race unspecified   African-American/Black   \n",
       "2           7.0  Race unspecified   African-American/Black   \n",
       "3           8.0  Race unspecified  European-American/White   \n",
       "4          10.0  Race unspecified  European-American/White   \n",
       "...         ...               ...                      ...   \n",
       "6374    29392.0  Race unspecified  European-American/White   \n",
       "6375    29410.0  Race unspecified  European-American/White   \n",
       "6376    29416.0  Race unspecified  European-American/White   \n",
       "6377    29735.0  Race unspecified          Hispanic/Latino   \n",
       "6378    30078.0  Race unspecified  European-American/White   \n",
       "\n",
       "      to_imputation_probability  \n",
       "0                      0.536669  \n",
       "1                      0.591266  \n",
       "2                      0.542160  \n",
       "3                      0.833870  \n",
       "4                      0.599186  \n",
       "...                         ...  \n",
       "6374                   0.504457  \n",
       "6375                   0.965566  \n",
       "6376                   0.993696  \n",
       "6377                   0.950131  \n",
       "6378                   0.851784  \n",
       "\n",
       "[6379 rows x 4 columns]"
      ]
     },
     "execution_count": 44,
     "metadata": {},
     "output_type": "execute_result"
    }
   ],
   "source": [
    "df_new"
   ]
  },
  {
   "cell_type": "code",
   "execution_count": 45,
   "metadata": {},
   "outputs": [
    {
     "data": {
      "text/plain": [
       "Series([], dtype: float64)"
      ]
     },
     "execution_count": 45,
     "metadata": {},
     "output_type": "execute_result"
    }
   ],
   "source": [
    "test_set_preds.mean()"
   ]
  },
  {
   "cell_type": "code",
   "execution_count": 46,
   "metadata": {},
   "outputs": [],
   "source": [
    "### Reattaching data pertaining to existing racial imputations and prediction probability "
   ]
  },
  {
   "cell_type": "code",
   "execution_count": 47,
   "metadata": {},
   "outputs": [],
   "source": [
    "df_original = df_original[['Unique ID','Race with imputations', 'Imputation probability']]"
   ]
  },
  {
   "cell_type": "code",
   "execution_count": 48,
   "metadata": {},
   "outputs": [],
   "source": [
    "### Merging datafames and dropping unncessary columns"
   ]
  },
  {
   "cell_type": "code",
   "execution_count": 49,
   "metadata": {},
   "outputs": [],
   "source": [
    "df1 = pd.merge(df_new, df_original, how = 'left', on = 'Unique ID')"
   ]
  },
  {
   "cell_type": "code",
   "execution_count": 50,
   "metadata": {},
   "outputs": [],
   "source": [
    "df1 = pd.merge(df1, df_cluster, how = 'left', on = 'Unique ID')\n",
    "df1 = df1.drop(columns = ['Unnamed: 0'])"
   ]
  },
  {
   "cell_type": "code",
   "execution_count": 51,
   "metadata": {},
   "outputs": [],
   "source": [
    "### Examining new dataframe "
   ]
  },
  {
   "cell_type": "markdown",
   "metadata": {},
   "source": [
    "The dataframe includes our predictions and prediction probabilites, the Fatal Encounter predictions and prediction probabilities, and the results from the KMeans unsupervised learning  model."
   ]
  },
  {
   "cell_type": "code",
   "execution_count": 52,
   "metadata": {
    "scrolled": true
   },
   "outputs": [
    {
     "data": {
      "text/html": [
       "<div>\n",
       "<style scoped>\n",
       "    .dataframe tbody tr th:only-of-type {\n",
       "        vertical-align: middle;\n",
       "    }\n",
       "\n",
       "    .dataframe tbody tr th {\n",
       "        vertical-align: top;\n",
       "    }\n",
       "\n",
       "    .dataframe thead th {\n",
       "        text-align: right;\n",
       "    }\n",
       "</style>\n",
       "<table border=\"1\" class=\"dataframe\">\n",
       "  <thead>\n",
       "    <tr style=\"text-align: right;\">\n",
       "      <th></th>\n",
       "      <th>Unique ID</th>\n",
       "      <th>Race</th>\n",
       "      <th>to_race_imputations</th>\n",
       "      <th>to_imputation_probability</th>\n",
       "      <th>Race with imputations</th>\n",
       "      <th>Imputation probability</th>\n",
       "      <th>cluster</th>\n",
       "    </tr>\n",
       "  </thead>\n",
       "  <tbody>\n",
       "    <tr>\n",
       "      <th>0</th>\n",
       "      <td>2.0</td>\n",
       "      <td>Race unspecified</td>\n",
       "      <td>African-American/Black</td>\n",
       "      <td>0.536669</td>\n",
       "      <td>African-American/Black</td>\n",
       "      <td>0.947676492</td>\n",
       "      <td>4</td>\n",
       "    </tr>\n",
       "    <tr>\n",
       "      <th>1</th>\n",
       "      <td>3.0</td>\n",
       "      <td>Race unspecified</td>\n",
       "      <td>African-American/Black</td>\n",
       "      <td>0.591266</td>\n",
       "      <td>European-American/White</td>\n",
       "      <td>0.941666075</td>\n",
       "      <td>0</td>\n",
       "    </tr>\n",
       "    <tr>\n",
       "      <th>2</th>\n",
       "      <td>7.0</td>\n",
       "      <td>Race unspecified</td>\n",
       "      <td>African-American/Black</td>\n",
       "      <td>0.542160</td>\n",
       "      <td>African-American/Black</td>\n",
       "      <td>0.789100135</td>\n",
       "      <td>3</td>\n",
       "    </tr>\n",
       "    <tr>\n",
       "      <th>3</th>\n",
       "      <td>8.0</td>\n",
       "      <td>Race unspecified</td>\n",
       "      <td>European-American/White</td>\n",
       "      <td>0.833870</td>\n",
       "      <td>European-American/White</td>\n",
       "      <td>0.436938034</td>\n",
       "      <td>5</td>\n",
       "    </tr>\n",
       "    <tr>\n",
       "      <th>4</th>\n",
       "      <td>10.0</td>\n",
       "      <td>Race unspecified</td>\n",
       "      <td>European-American/White</td>\n",
       "      <td>0.599186</td>\n",
       "      <td>European-American/White</td>\n",
       "      <td>0.680697585</td>\n",
       "      <td>2</td>\n",
       "    </tr>\n",
       "  </tbody>\n",
       "</table>\n",
       "</div>"
      ],
      "text/plain": [
       "   Unique ID              Race      to_race_imputations  \\\n",
       "0        2.0  Race unspecified   African-American/Black   \n",
       "1        3.0  Race unspecified   African-American/Black   \n",
       "2        7.0  Race unspecified   African-American/Black   \n",
       "3        8.0  Race unspecified  European-American/White   \n",
       "4       10.0  Race unspecified  European-American/White   \n",
       "\n",
       "   to_imputation_probability    Race with imputations Imputation probability  \\\n",
       "0                   0.536669   African-American/Black            0.947676492   \n",
       "1                   0.591266  European-American/White            0.941666075   \n",
       "2                   0.542160   African-American/Black            0.789100135   \n",
       "3                   0.833870  European-American/White            0.436938034   \n",
       "4                   0.599186  European-American/White            0.680697585   \n",
       "\n",
       "   cluster  \n",
       "0        4  \n",
       "1        0  \n",
       "2        3  \n",
       "3        5  \n",
       "4        2  "
      ]
     },
     "execution_count": 52,
     "metadata": {},
     "output_type": "execute_result"
    }
   ],
   "source": [
    "df1.head()"
   ]
  },
  {
   "cell_type": "markdown",
   "metadata": {},
   "source": [
    "## KMeans analyis"
   ]
  },
  {
   "cell_type": "markdown",
   "metadata": {},
   "source": [
    "### Examining normalized value counts from KMeans model."
   ]
  },
  {
   "cell_type": "markdown",
   "metadata": {},
   "source": [
    "Upon just initial examination, we can see that the value counts are do not directly correspond with the true distribution, so we cannot be too confident in the efficacy of our  KMeans model."
   ]
  },
  {
   "cell_type": "code",
   "execution_count": 53,
   "metadata": {},
   "outputs": [
    {
     "data": {
      "text/plain": [
       "0    0.310739\n",
       "3    0.265956\n",
       "4    0.236862\n",
       "5    0.116375\n",
       "1    0.050724\n",
       "2    0.019345\n",
       "Name: cluster, dtype: float64"
      ]
     },
     "execution_count": 53,
     "metadata": {},
     "output_type": "execute_result"
    }
   ],
   "source": [
    "df1['cluster'].value_counts(normalize=True)"
   ]
  },
  {
   "cell_type": "code",
   "execution_count": 54,
   "metadata": {},
   "outputs": [],
   "source": [
    "listy = [df1['cluster'], df1['to_race_imputations']]"
   ]
  },
  {
   "cell_type": "code",
   "execution_count": 55,
   "metadata": {},
   "outputs": [],
   "source": [
    "cluster_analysis = pd.DataFrame(df1.groupby(listy)['Unique ID'].count())"
   ]
  },
  {
   "cell_type": "code",
   "execution_count": 56,
   "metadata": {},
   "outputs": [],
   "source": [
    "cluster_analysis['cluster2'] = cluster_analysis.index"
   ]
  },
  {
   "cell_type": "code",
   "execution_count": 57,
   "metadata": {},
   "outputs": [
    {
     "data": {
      "text/plain": [
       "Index(['Unique ID', 'cluster2'], dtype='object')"
      ]
     },
     "execution_count": 57,
     "metadata": {},
     "output_type": "execute_result"
    }
   ],
   "source": [
    "cluster_analysis.columns"
   ]
  },
  {
   "cell_type": "markdown",
   "metadata": {},
   "source": [
    "### Examining racial composition of each cluster"
   ]
  },
  {
   "cell_type": "code",
   "execution_count": 58,
   "metadata": {
    "scrolled": true
   },
   "outputs": [
    {
     "data": {
      "text/html": [
       "<div>\n",
       "<style scoped>\n",
       "    .dataframe tbody tr th:only-of-type {\n",
       "        vertical-align: middle;\n",
       "    }\n",
       "\n",
       "    .dataframe tbody tr th {\n",
       "        vertical-align: top;\n",
       "    }\n",
       "\n",
       "    .dataframe thead th {\n",
       "        text-align: right;\n",
       "    }\n",
       "</style>\n",
       "<table border=\"1\" class=\"dataframe\">\n",
       "  <thead>\n",
       "    <tr style=\"text-align: right;\">\n",
       "      <th></th>\n",
       "      <th></th>\n",
       "      <th>Unique ID</th>\n",
       "      <th>cluster2</th>\n",
       "    </tr>\n",
       "    <tr>\n",
       "      <th>cluster</th>\n",
       "      <th>to_race_imputations</th>\n",
       "      <th></th>\n",
       "      <th></th>\n",
       "    </tr>\n",
       "  </thead>\n",
       "  <tbody>\n",
       "    <tr>\n",
       "      <th rowspan=\"5\" valign=\"top\">0</th>\n",
       "      <th>African-American/Black</th>\n",
       "      <td>192</td>\n",
       "      <td>(0, African-American/Black)</td>\n",
       "    </tr>\n",
       "    <tr>\n",
       "      <th>Asian/Pacific Islander</th>\n",
       "      <td>8</td>\n",
       "      <td>(0, Asian/Pacific Islander)</td>\n",
       "    </tr>\n",
       "    <tr>\n",
       "      <th>European-American/White</th>\n",
       "      <td>1743</td>\n",
       "      <td>(0, European-American/White)</td>\n",
       "    </tr>\n",
       "    <tr>\n",
       "      <th>Hispanic/Latino</th>\n",
       "      <td>89</td>\n",
       "      <td>(0, Hispanic/Latino)</td>\n",
       "    </tr>\n",
       "    <tr>\n",
       "      <th>Native American/Alaskan</th>\n",
       "      <td>8</td>\n",
       "      <td>(0, Native American/Alaskan)</td>\n",
       "    </tr>\n",
       "    <tr>\n",
       "      <th rowspan=\"5\" valign=\"top\">1</th>\n",
       "      <th>African-American/Black</th>\n",
       "      <td>48</td>\n",
       "      <td>(1, African-American/Black)</td>\n",
       "    </tr>\n",
       "    <tr>\n",
       "      <th>Asian/Pacific Islander</th>\n",
       "      <td>4</td>\n",
       "      <td>(1, Asian/Pacific Islander)</td>\n",
       "    </tr>\n",
       "    <tr>\n",
       "      <th>European-American/White</th>\n",
       "      <td>136</td>\n",
       "      <td>(1, European-American/White)</td>\n",
       "    </tr>\n",
       "    <tr>\n",
       "      <th>Hispanic/Latino</th>\n",
       "      <td>141</td>\n",
       "      <td>(1, Hispanic/Latino)</td>\n",
       "    </tr>\n",
       "    <tr>\n",
       "      <th>Native American/Alaskan</th>\n",
       "      <td>4</td>\n",
       "      <td>(1, Native American/Alaskan)</td>\n",
       "    </tr>\n",
       "    <tr>\n",
       "      <th rowspan=\"4\" valign=\"top\">2</th>\n",
       "      <th>African-American/Black</th>\n",
       "      <td>28</td>\n",
       "      <td>(2, African-American/Black)</td>\n",
       "    </tr>\n",
       "    <tr>\n",
       "      <th>Asian/Pacific Islander</th>\n",
       "      <td>11</td>\n",
       "      <td>(2, Asian/Pacific Islander)</td>\n",
       "    </tr>\n",
       "    <tr>\n",
       "      <th>European-American/White</th>\n",
       "      <td>26</td>\n",
       "      <td>(2, European-American/White)</td>\n",
       "    </tr>\n",
       "    <tr>\n",
       "      <th>Hispanic/Latino</th>\n",
       "      <td>62</td>\n",
       "      <td>(2, Hispanic/Latino)</td>\n",
       "    </tr>\n",
       "    <tr>\n",
       "      <th rowspan=\"6\" valign=\"top\">3</th>\n",
       "      <th>African-American/Black</th>\n",
       "      <td>587</td>\n",
       "      <td>(3, African-American/Black)</td>\n",
       "    </tr>\n",
       "    <tr>\n",
       "      <th>Asian/Pacific Islander</th>\n",
       "      <td>27</td>\n",
       "      <td>(3, Asian/Pacific Islander)</td>\n",
       "    </tr>\n",
       "    <tr>\n",
       "      <th>European-American/White</th>\n",
       "      <td>922</td>\n",
       "      <td>(3, European-American/White)</td>\n",
       "    </tr>\n",
       "    <tr>\n",
       "      <th>Hispanic/Latino</th>\n",
       "      <td>207</td>\n",
       "      <td>(3, Hispanic/Latino)</td>\n",
       "    </tr>\n",
       "    <tr>\n",
       "      <th>Middle Eastern</th>\n",
       "      <td>1</td>\n",
       "      <td>(3, Middle Eastern)</td>\n",
       "    </tr>\n",
       "    <tr>\n",
       "      <th>Native American/Alaskan</th>\n",
       "      <td>2</td>\n",
       "      <td>(3, Native American/Alaskan)</td>\n",
       "    </tr>\n",
       "    <tr>\n",
       "      <th rowspan=\"5\" valign=\"top\">4</th>\n",
       "      <th>African-American/Black</th>\n",
       "      <td>916</td>\n",
       "      <td>(4, African-American/Black)</td>\n",
       "    </tr>\n",
       "    <tr>\n",
       "      <th>Asian/Pacific Islander</th>\n",
       "      <td>3</td>\n",
       "      <td>(4, Asian/Pacific Islander)</td>\n",
       "    </tr>\n",
       "    <tr>\n",
       "      <th>European-American/White</th>\n",
       "      <td>539</td>\n",
       "      <td>(4, European-American/White)</td>\n",
       "    </tr>\n",
       "    <tr>\n",
       "      <th>Hispanic/Latino</th>\n",
       "      <td>96</td>\n",
       "      <td>(4, Hispanic/Latino)</td>\n",
       "    </tr>\n",
       "    <tr>\n",
       "      <th>Native American/Alaskan</th>\n",
       "      <td>1</td>\n",
       "      <td>(4, Native American/Alaskan)</td>\n",
       "    </tr>\n",
       "    <tr>\n",
       "      <th rowspan=\"5\" valign=\"top\">5</th>\n",
       "      <th>African-American/Black</th>\n",
       "      <td>265</td>\n",
       "      <td>(5, African-American/Black)</td>\n",
       "    </tr>\n",
       "    <tr>\n",
       "      <th>Asian/Pacific Islander</th>\n",
       "      <td>8</td>\n",
       "      <td>(5, Asian/Pacific Islander)</td>\n",
       "    </tr>\n",
       "    <tr>\n",
       "      <th>European-American/White</th>\n",
       "      <td>266</td>\n",
       "      <td>(5, European-American/White)</td>\n",
       "    </tr>\n",
       "    <tr>\n",
       "      <th>Hispanic/Latino</th>\n",
       "      <td>222</td>\n",
       "      <td>(5, Hispanic/Latino)</td>\n",
       "    </tr>\n",
       "    <tr>\n",
       "      <th>Middle Eastern</th>\n",
       "      <td>3</td>\n",
       "      <td>(5, Middle Eastern)</td>\n",
       "    </tr>\n",
       "  </tbody>\n",
       "</table>\n",
       "</div>"
      ],
      "text/plain": [
       "                                 Unique ID                      cluster2\n",
       "cluster to_race_imputations                                             \n",
       "0       African-American/Black         192   (0, African-American/Black)\n",
       "        Asian/Pacific Islander           8   (0, Asian/Pacific Islander)\n",
       "        European-American/White       1743  (0, European-American/White)\n",
       "        Hispanic/Latino                 89          (0, Hispanic/Latino)\n",
       "        Native American/Alaskan          8  (0, Native American/Alaskan)\n",
       "1       African-American/Black          48   (1, African-American/Black)\n",
       "        Asian/Pacific Islander           4   (1, Asian/Pacific Islander)\n",
       "        European-American/White        136  (1, European-American/White)\n",
       "        Hispanic/Latino                141          (1, Hispanic/Latino)\n",
       "        Native American/Alaskan          4  (1, Native American/Alaskan)\n",
       "2       African-American/Black          28   (2, African-American/Black)\n",
       "        Asian/Pacific Islander          11   (2, Asian/Pacific Islander)\n",
       "        European-American/White         26  (2, European-American/White)\n",
       "        Hispanic/Latino                 62          (2, Hispanic/Latino)\n",
       "3       African-American/Black         587   (3, African-American/Black)\n",
       "        Asian/Pacific Islander          27   (3, Asian/Pacific Islander)\n",
       "        European-American/White        922  (3, European-American/White)\n",
       "        Hispanic/Latino                207          (3, Hispanic/Latino)\n",
       "        Middle Eastern                   1           (3, Middle Eastern)\n",
       "        Native American/Alaskan          2  (3, Native American/Alaskan)\n",
       "4       African-American/Black         916   (4, African-American/Black)\n",
       "        Asian/Pacific Islander           3   (4, Asian/Pacific Islander)\n",
       "        European-American/White        539  (4, European-American/White)\n",
       "        Hispanic/Latino                 96          (4, Hispanic/Latino)\n",
       "        Native American/Alaskan          1  (4, Native American/Alaskan)\n",
       "5       African-American/Black         265   (5, African-American/Black)\n",
       "        Asian/Pacific Islander           8   (5, Asian/Pacific Islander)\n",
       "        European-American/White        266  (5, European-American/White)\n",
       "        Hispanic/Latino                222          (5, Hispanic/Latino)\n",
       "        Middle Eastern                   3           (5, Middle Eastern)"
      ]
     },
     "execution_count": 58,
     "metadata": {},
     "output_type": "execute_result"
    }
   ],
   "source": [
    "cluster_analysis"
   ]
  },
  {
   "cell_type": "markdown",
   "metadata": {},
   "source": [
    "### Performance Comparision"
   ]
  },
  {
   "cell_type": "markdown",
   "metadata": {},
   "source": [
    "Casting the imputation probability as a numeric variable."
   ]
  },
  {
   "cell_type": "code",
   "execution_count": 59,
   "metadata": {},
   "outputs": [],
   "source": [
    "df1['Imputation probability'] = pd.to_numeric(df1['Imputation probability'], errors='coerce')"
   ]
  },
  {
   "cell_type": "code",
   "execution_count": 60,
   "metadata": {},
   "outputs": [],
   "source": [
    "#### Comparing value counts"
   ]
  },
  {
   "cell_type": "code",
   "execution_count": 61,
   "metadata": {},
   "outputs": [
    {
     "data": {
      "text/plain": [
       "European-American/White    4131\n",
       "African-American/Black     1439\n",
       "Hispanic/Latino             857\n",
       "Asian/Pacific Islander       87\n",
       "Race unspecified             51\n",
       "Name: Race with imputations, dtype: int64"
      ]
     },
     "execution_count": 61,
     "metadata": {},
     "output_type": "execute_result"
    }
   ],
   "source": [
    "df1['Race with imputations'].value_counts()"
   ]
  },
  {
   "cell_type": "code",
   "execution_count": 62,
   "metadata": {},
   "outputs": [
    {
     "data": {
      "text/plain": [
       "European-American/White    3632\n",
       "African-American/Black     2036\n",
       "Hispanic/Latino             817\n",
       "Asian/Pacific Islander       61\n",
       "Native American/Alaskan      15\n",
       "Middle Eastern                4\n",
       "Name: to_race_imputations, dtype: int64"
      ]
     },
     "execution_count": 62,
     "metadata": {},
     "output_type": "execute_result"
    }
   ],
   "source": [
    "df1['to_race_imputations'].value_counts()"
   ]
  },
  {
   "cell_type": "code",
   "execution_count": 63,
   "metadata": {},
   "outputs": [],
   "source": [
    "#### Comparing normalized value counts"
   ]
  },
  {
   "cell_type": "code",
   "execution_count": 64,
   "metadata": {},
   "outputs": [
    {
     "data": {
      "text/plain": [
       "European-American/White    0.629246\n",
       "African-American/Black     0.219193\n",
       "Hispanic/Latino            0.130541\n",
       "Asian/Pacific Islander     0.013252\n",
       "Race unspecified           0.007768\n",
       "Name: Race with imputations, dtype: float64"
      ]
     },
     "execution_count": 64,
     "metadata": {},
     "output_type": "execute_result"
    }
   ],
   "source": [
    "df1['Race with imputations'].value_counts(normalize=True)"
   ]
  },
  {
   "cell_type": "code",
   "execution_count": 65,
   "metadata": {},
   "outputs": [
    {
     "data": {
      "text/plain": [
       "European-American/White    0.553237\n",
       "African-American/Black     0.310129\n",
       "Hispanic/Latino            0.124448\n",
       "Asian/Pacific Islander     0.009292\n",
       "Native American/Alaskan    0.002285\n",
       "Middle Eastern             0.000609\n",
       "Name: to_race_imputations, dtype: float64"
      ]
     },
     "execution_count": 65,
     "metadata": {},
     "output_type": "execute_result"
    }
   ],
   "source": [
    "df1['to_race_imputations'].value_counts(normalize=True)"
   ]
  },
  {
   "cell_type": "code",
   "execution_count": 66,
   "metadata": {},
   "outputs": [],
   "source": [
    "#### Comparing average strength of imputation probability"
   ]
  },
  {
   "cell_type": "code",
   "execution_count": 67,
   "metadata": {},
   "outputs": [
    {
     "data": {
      "text/plain": [
       "0.8494675881168269"
      ]
     },
     "execution_count": 67,
     "metadata": {},
     "output_type": "execute_result"
    }
   ],
   "source": [
    "df1['Imputation probability'].mean()"
   ]
  },
  {
   "cell_type": "code",
   "execution_count": 68,
   "metadata": {},
   "outputs": [
    {
     "data": {
      "text/plain": [
       "0.8133453397651295"
      ]
     },
     "execution_count": 68,
     "metadata": {},
     "output_type": "execute_result"
    }
   ],
   "source": [
    "df1['to_imputation_probability'].mean()"
   ]
  },
  {
   "cell_type": "markdown",
   "metadata": {},
   "source": [
    "### Examining confusion matrix from the predictions of the logistic regression"
   ]
  },
  {
   "cell_type": "code",
   "execution_count": 69,
   "metadata": {
    "scrolled": true
   },
   "outputs": [
    {
     "data": {
      "image/png": "[encoded data removed]",
      "text/plain": [
       "<Figure size 432x288 with 2 Axes>"
      ]
     },
     "metadata": {
      "needs_background": "light"
     },
     "output_type": "display_data"
    }
   ],
   "source": [
    "plot_confusion_matrix(logreg, Xsc_train, y_train, cmap='Blues');"
   ]
  },
  {
   "cell_type": "code",
   "execution_count": 70,
   "metadata": {
    "scrolled": true
   },
   "outputs": [
    {
     "data": {
      "image/png": "[encoded data removed]",
      "text/plain": [
       "<Figure size 432x288 with 2 Axes>"
      ]
     },
     "metadata": {
      "needs_background": "light"
     },
     "output_type": "display_data"
    }
   ],
   "source": [
    "plot_confusion_matrix(logreg, Xsc_test, y_test, cmap='Blues', normalize='true');"
   ]
  },
  {
   "cell_type": "markdown",
   "metadata": {},
   "source": [
    "### Evaluation recall score for logistic regression"
   ]
  },
  {
   "cell_type": "code",
   "execution_count": 71,
   "metadata": {},
   "outputs": [
    {
     "data": {
      "text/plain": [
       "0.8029345832484206"
      ]
     },
     "execution_count": 71,
     "metadata": {},
     "output_type": "execute_result"
    }
   ],
   "source": [
    "recall_score(y_test, y_preds, average='weighted')"
   ]
  },
  {
   "cell_type": "code",
   "execution_count": 72,
   "metadata": {},
   "outputs": [],
   "source": [
    "### Evaluation precision score for logistic regression"
   ]
  },
  {
   "cell_type": "code",
   "execution_count": 73,
   "metadata": {},
   "outputs": [
    {
     "data": {
      "text/plain": [
       "0.8005557843825003"
      ]
     },
     "execution_count": 73,
     "metadata": {},
     "output_type": "execute_result"
    }
   ],
   "source": [
    "precision_score(y_test, y_preds, average='weighted')"
   ]
  },
  {
   "cell_type": "code",
   "execution_count": 74,
   "metadata": {},
   "outputs": [],
   "source": [
    "### Evaluation F1 score for logistic regression"
   ]
  },
  {
   "cell_type": "code",
   "execution_count": 75,
   "metadata": {},
   "outputs": [
    {
     "data": {
      "text/plain": [
       "0.8006055925166985"
      ]
     },
     "execution_count": 75,
     "metadata": {},
     "output_type": "execute_result"
    }
   ],
   "source": [
    "f1_score(y_test, y_preds, average='weighted')"
   ]
  },
  {
   "cell_type": "code",
   "execution_count": 76,
   "metadata": {},
   "outputs": [],
   "source": [
    "predprobs = logreg.predict_log_proba(Xsc_test)"
   ]
  },
  {
   "cell_type": "code",
   "execution_count": 77,
   "metadata": {
    "scrolled": true
   },
   "outputs": [
    {
     "data": {
      "text/plain": [
       "array([[ -5.07387926,  -6.66213702,  -1.32935517,  -0.9505424 ,\n",
       "        -11.06992971,  -1.075085  ],\n",
       "       [ -0.72643102,  -4.95175635,  -0.73521749,  -3.65639503,\n",
       "         -9.21658155,  -5.52872922],\n",
       "       [ -3.29159094,  -5.79923482,  -0.06520762,  -4.23959157,\n",
       "         -5.68974696,  -5.27682184],\n",
       "       ...,\n",
       "       [ -0.87890397, -10.02006369,  -0.55354492,  -4.62635622,\n",
       "        -12.27895215, -11.14021822],\n",
       "       [ -4.83569299,  -7.32413885,  -0.0176923 ,  -4.74218241,\n",
       "        -14.58400102,  -8.44002509],\n",
       "       [ -1.58633335,  -8.41144928,  -0.36301194,  -2.80376334,\n",
       "         -6.84553756,  -3.27335802]])"
      ]
     },
     "execution_count": 77,
     "metadata": {},
     "output_type": "execute_result"
    }
   ],
   "source": [
    "predprobs"
   ]
  },
  {
   "cell_type": "markdown",
   "metadata": {},
   "source": [
    "### Examining coefficients from the logistic regresion"
   ]
  },
  {
   "cell_type": "code",
   "execution_count": 78,
   "metadata": {},
   "outputs": [],
   "source": [
    "coefficients = pd.DataFrame(list(zip(X.columns, np.exp(logreg.coef_)[0])))"
   ]
  },
  {
   "cell_type": "code",
   "execution_count": 79,
   "metadata": {
    "scrolled": true
   },
   "outputs": [
    {
     "data": {
      "text/html": [
       "<div>\n",
       "<style scoped>\n",
       "    .dataframe tbody tr th:only-of-type {\n",
       "        vertical-align: middle;\n",
       "    }\n",
       "\n",
       "    .dataframe tbody tr th {\n",
       "        vertical-align: top;\n",
       "    }\n",
       "\n",
       "    .dataframe thead th {\n",
       "        text-align: right;\n",
       "    }\n",
       "</style>\n",
       "<table border=\"1\" class=\"dataframe\">\n",
       "  <thead>\n",
       "    <tr style=\"text-align: right;\">\n",
       "      <th></th>\n",
       "      <th>0</th>\n",
       "      <th>1</th>\n",
       "    </tr>\n",
       "  </thead>\n",
       "  <tbody>\n",
       "    <tr>\n",
       "      <th>184</th>\n",
       "      <td>pctblack</td>\n",
       "      <td>2.381574</td>\n",
       "    </tr>\n",
       "    <tr>\n",
       "      <th>130</th>\n",
       "      <td>unemployed_2017</td>\n",
       "      <td>2.023155</td>\n",
       "    </tr>\n",
       "    <tr>\n",
       "      <th>74</th>\n",
       "      <td>sales_2007</td>\n",
       "      <td>1.925037</td>\n",
       "    </tr>\n",
       "    <tr>\n",
       "      <th>70</th>\n",
       "      <td>private_nonfarm_establishments_2009</td>\n",
       "      <td>1.845359</td>\n",
       "    </tr>\n",
       "    <tr>\n",
       "      <th>77</th>\n",
       "      <td>fed_spending_2009</td>\n",
       "      <td>1.818185</td>\n",
       "    </tr>\n",
       "    <tr>\n",
       "      <th>24</th>\n",
       "      <td>black_2010</td>\n",
       "      <td>1.791341</td>\n",
       "    </tr>\n",
       "    <tr>\n",
       "      <th>64</th>\n",
       "      <td>persons_per_household_2017</td>\n",
       "      <td>1.673634</td>\n",
       "    </tr>\n",
       "    <tr>\n",
       "      <th>32</th>\n",
       "      <td>two_plus_races_2010</td>\n",
       "      <td>1.655088</td>\n",
       "    </tr>\n",
       "    <tr>\n",
       "      <th>198</th>\n",
       "      <td>State_FL</td>\n",
       "      <td>1.531944</td>\n",
       "    </tr>\n",
       "    <tr>\n",
       "      <th>199</th>\n",
       "      <td>State_GA</td>\n",
       "      <td>1.526401</td>\n",
       "    </tr>\n",
       "  </tbody>\n",
       "</table>\n",
       "</div>"
      ],
      "text/plain": [
       "                                       0         1\n",
       "184                             pctblack  2.381574\n",
       "130                      unemployed_2017  2.023155\n",
       "74                            sales_2007  1.925037\n",
       "70   private_nonfarm_establishments_2009  1.845359\n",
       "77                     fed_spending_2009  1.818185\n",
       "24                            black_2010  1.791341\n",
       "64            persons_per_household_2017  1.673634\n",
       "32                   two_plus_races_2010  1.655088\n",
       "198                             State_FL  1.531944\n",
       "199                             State_GA  1.526401"
      ]
     },
     "execution_count": 79,
     "metadata": {},
     "output_type": "execute_result"
    }
   ],
   "source": [
    "coefficients.sort_values(by = 1, ascending=False, key = abs).head(10)"
   ]
  },
  {
   "cell_type": "code",
   "execution_count": null,
   "metadata": {},
   "outputs": [],
   "source": []
  },
  {
   "cell_type": "markdown",
   "metadata": {},
   "source": [
    "### Ridge Classifier"
   ]
  },
  {
   "cell_type": "code",
   "execution_count": 80,
   "metadata": {},
   "outputs": [],
   "source": [
    "rc = RidgeClassifier()"
   ]
  },
  {
   "cell_type": "code",
   "execution_count": 81,
   "metadata": {},
   "outputs": [
    {
     "data": {
      "text/plain": [
       "RidgeClassifier()"
      ]
     },
     "execution_count": 81,
     "metadata": {},
     "output_type": "execute_result"
    }
   ],
   "source": [
    "rc.fit(Xsc_train, y_train)"
   ]
  },
  {
   "cell_type": "code",
   "execution_count": 82,
   "metadata": {},
   "outputs": [
    {
     "data": {
      "text/plain": [
       "0.8141430609333605"
      ]
     },
     "execution_count": 82,
     "metadata": {},
     "output_type": "execute_result"
    }
   ],
   "source": [
    "rc.score(Xsc_train, y_train)"
   ]
  },
  {
   "cell_type": "code",
   "execution_count": 83,
   "metadata": {},
   "outputs": [
    {
     "data": {
      "text/plain": [
       "0.8017118402282454"
      ]
     },
     "execution_count": 83,
     "metadata": {},
     "output_type": "execute_result"
    }
   ],
   "source": [
    "rc.score(Xsc_test, y_test)"
   ]
  },
  {
   "cell_type": "markdown",
   "metadata": {},
   "source": [
    "### K-Nearest Neighbors"
   ]
  },
  {
   "cell_type": "code",
   "execution_count": 84,
   "metadata": {},
   "outputs": [],
   "source": [
    "knn = KNeighborsClassifier(n_neighbors=11)"
   ]
  },
  {
   "cell_type": "code",
   "execution_count": 85,
   "metadata": {},
   "outputs": [
    {
     "data": {
      "text/plain": [
       "KNeighborsClassifier(n_neighbors=11)"
      ]
     },
     "execution_count": 85,
     "metadata": {},
     "output_type": "execute_result"
    }
   ],
   "source": [
    "knn.fit(Xsc_train, y_train)"
   ]
  },
  {
   "cell_type": "code",
   "execution_count": 86,
   "metadata": {},
   "outputs": [
    {
     "data": {
      "text/plain": [
       "0.7487942395217716"
      ]
     },
     "execution_count": 86,
     "metadata": {},
     "output_type": "execute_result"
    }
   ],
   "source": [
    "knn.score(Xsc_train, y_train)"
   ]
  },
  {
   "cell_type": "code",
   "execution_count": 87,
   "metadata": {},
   "outputs": [
    {
     "data": {
      "text/plain": [
       "0.7040961891175871"
      ]
     },
     "execution_count": 87,
     "metadata": {},
     "output_type": "execute_result"
    }
   ],
   "source": [
    "knn.score(Xsc_test, y_test)"
   ]
  },
  {
   "cell_type": "markdown",
   "metadata": {},
   "source": [
    "### Decision Tree"
   ]
  },
  {
   "cell_type": "code",
   "execution_count": 88,
   "metadata": {},
   "outputs": [
    {
     "data": {
      "text/plain": [
       "DecisionTreeClassifier()"
      ]
     },
     "execution_count": 88,
     "metadata": {},
     "output_type": "execute_result"
    }
   ],
   "source": [
    "trees = DecisionTreeClassifier()\n",
    "trees.fit(Xsc_train, y_train)"
   ]
  },
  {
   "cell_type": "code",
   "execution_count": 89,
   "metadata": {},
   "outputs": [
    {
     "data": {
      "text/plain": [
       "0.9999320698322125"
      ]
     },
     "execution_count": 89,
     "metadata": {},
     "output_type": "execute_result"
    }
   ],
   "source": [
    "trees.score(Xsc_train, y_train)"
   ]
  },
  {
   "cell_type": "code",
   "execution_count": 90,
   "metadata": {},
   "outputs": [
    {
     "data": {
      "text/plain": [
       "0.7122478092520889"
      ]
     },
     "execution_count": 90,
     "metadata": {},
     "output_type": "execute_result"
    }
   ],
   "source": [
    "trees.score(Xsc_test, y_test)"
   ]
  },
  {
   "cell_type": "markdown",
   "metadata": {},
   "source": [
    "### Random Forest"
   ]
  },
  {
   "cell_type": "code",
   "execution_count": 92,
   "metadata": {},
   "outputs": [],
   "source": [
    "rf = RandomForestClassifier(max_depth = 10)"
   ]
  },
  {
   "cell_type": "code",
   "execution_count": 93,
   "metadata": {},
   "outputs": [
    {
     "data": {
      "text/plain": [
       "RandomForestClassifier(max_depth=10)"
      ]
     },
     "execution_count": 93,
     "metadata": {},
     "output_type": "execute_result"
    }
   ],
   "source": [
    "rf.fit(Xsc_train, y_train)"
   ]
  },
  {
   "cell_type": "code",
   "execution_count": 94,
   "metadata": {},
   "outputs": [
    {
     "data": {
      "text/plain": [
       "0.8631207119081584"
      ]
     },
     "execution_count": 94,
     "metadata": {},
     "output_type": "execute_result"
    }
   ],
   "source": [
    "rf.score(Xsc_train, y_train)"
   ]
  },
  {
   "cell_type": "code",
   "execution_count": 95,
   "metadata": {},
   "outputs": [
    {
     "data": {
      "text/plain": [
       "0.7996739351946199"
      ]
     },
     "execution_count": 95,
     "metadata": {},
     "output_type": "execute_result"
    }
   ],
   "source": [
    "rf.score(Xsc_test, y_test)"
   ]
  },
  {
   "cell_type": "markdown",
   "metadata": {},
   "source": [
    "### Bagging Classifier"
   ]
  },
  {
   "cell_type": "code",
   "execution_count": 96,
   "metadata": {},
   "outputs": [],
   "source": [
    "bag = BaggingClassifier(verbose=1)"
   ]
  },
  {
   "cell_type": "code",
   "execution_count": 97,
   "metadata": {
    "scrolled": true
   },
   "outputs": [
    {
     "name": "stderr",
     "output_type": "stream",
     "text": [
      "[Parallel(n_jobs=1)]: Using backend SequentialBackend with 1 concurrent workers.\n",
      "[Parallel(n_jobs=1)]: Done   1 out of   1 | elapsed:   16.4s finished\n"
     ]
    },
    {
     "data": {
      "text/plain": [
       "BaggingClassifier(verbose=1)"
      ]
     },
     "execution_count": 97,
     "metadata": {},
     "output_type": "execute_result"
    }
   ],
   "source": [
    "bag.fit(Xsc_train, y_train)"
   ]
  },
  {
   "cell_type": "code",
   "execution_count": 98,
   "metadata": {},
   "outputs": [
    {
     "name": "stderr",
     "output_type": "stream",
     "text": [
      "[Parallel(n_jobs=1)]: Using backend SequentialBackend with 1 concurrent workers.\n",
      "[Parallel(n_jobs=1)]: Done   1 out of   1 | elapsed:    0.2s finished\n"
     ]
    },
    {
     "data": {
      "text/plain": [
       "0.9879084301338225"
      ]
     },
     "execution_count": 98,
     "metadata": {},
     "output_type": "execute_result"
    }
   ],
   "source": [
    "bag.score(Xsc_train, y_train)"
   ]
  },
  {
   "cell_type": "code",
   "execution_count": 99,
   "metadata": {},
   "outputs": [
    {
     "name": "stderr",
     "output_type": "stream",
     "text": [
      "[Parallel(n_jobs=1)]: Using backend SequentialBackend with 1 concurrent workers.\n",
      "[Parallel(n_jobs=1)]: Done   1 out of   1 | elapsed:    0.1s finished\n"
     ]
    },
    {
     "data": {
      "text/plain": [
       "0.7744039127776645"
      ]
     },
     "execution_count": 99,
     "metadata": {},
     "output_type": "execute_result"
    }
   ],
   "source": [
    "bag.score(Xsc_test, y_test)"
   ]
  },
  {
   "cell_type": "markdown",
   "metadata": {},
   "source": [
    "### Support Vector Machines"
   ]
  },
  {
   "cell_type": "code",
   "execution_count": 100,
   "metadata": {},
   "outputs": [],
   "source": [
    "svec = SVC(verbose = True)"
   ]
  },
  {
   "cell_type": "code",
   "execution_count": 101,
   "metadata": {},
   "outputs": [
    {
     "name": "stdout",
     "output_type": "stream",
     "text": [
      "[LibSVM]"
     ]
    },
    {
     "data": {
      "text/plain": [
       "SVC(verbose=True)"
      ]
     },
     "execution_count": 101,
     "metadata": {},
     "output_type": "execute_result"
    }
   ],
   "source": [
    "svec.fit(Xsc_train, y_train)"
   ]
  },
  {
   "cell_type": "code",
   "execution_count": 102,
   "metadata": {},
   "outputs": [
    {
     "data": {
      "text/plain": [
       "0.8409075470416412"
      ]
     },
     "execution_count": 102,
     "metadata": {},
     "output_type": "execute_result"
    }
   ],
   "source": [
    "svec.score(Xsc_train, y_train)"
   ]
  },
  {
   "cell_type": "code",
   "execution_count": 103,
   "metadata": {},
   "outputs": [
    {
     "data": {
      "text/plain": [
       "0.7990625636845323"
      ]
     },
     "execution_count": 103,
     "metadata": {},
     "output_type": "execute_result"
    }
   ],
   "source": [
    "svec.score(Xsc_test, y_test)"
   ]
  },
  {
   "cell_type": "markdown",
   "metadata": {},
   "source": [
    "### Ada Boost"
   ]
  },
  {
   "cell_type": "code",
   "execution_count": 104,
   "metadata": {},
   "outputs": [],
   "source": [
    "ada = AdaBoostClassifier()"
   ]
  },
  {
   "cell_type": "code",
   "execution_count": 105,
   "metadata": {},
   "outputs": [
    {
     "data": {
      "text/plain": [
       "AdaBoostClassifier()"
      ]
     },
     "execution_count": 105,
     "metadata": {},
     "output_type": "execute_result"
    }
   ],
   "source": [
    "ada.fit(Xsc_train, y_train)"
   ]
  },
  {
   "cell_type": "code",
   "execution_count": 106,
   "metadata": {},
   "outputs": [
    {
     "data": {
      "text/plain": [
       "0.672508661096393"
      ]
     },
     "execution_count": 106,
     "metadata": {},
     "output_type": "execute_result"
    }
   ],
   "source": [
    "ada.score(Xsc_train, y_train)"
   ]
  },
  {
   "cell_type": "code",
   "execution_count": 107,
   "metadata": {},
   "outputs": [
    {
     "data": {
      "text/plain": [
       "0.6786223761972692"
      ]
     },
     "execution_count": 107,
     "metadata": {},
     "output_type": "execute_result"
    }
   ],
   "source": [
    "ada.score(Xsc_test, y_test)"
   ]
  },
  {
   "cell_type": "markdown",
   "metadata": {},
   "source": [
    "### Extra Trees"
   ]
  },
  {
   "cell_type": "code",
   "execution_count": 108,
   "metadata": {},
   "outputs": [],
   "source": [
    "xtra = ExtraTreesClassifier()"
   ]
  },
  {
   "cell_type": "code",
   "execution_count": 109,
   "metadata": {},
   "outputs": [
    {
     "data": {
      "text/plain": [
       "ExtraTreesClassifier()"
      ]
     },
     "execution_count": 109,
     "metadata": {},
     "output_type": "execute_result"
    }
   ],
   "source": [
    "xtra.fit(Xsc_train, y_train)"
   ]
  },
  {
   "cell_type": "code",
   "execution_count": 110,
   "metadata": {},
   "outputs": [
    {
     "data": {
      "text/plain": [
       "0.9999320698322125"
      ]
     },
     "execution_count": 110,
     "metadata": {},
     "output_type": "execute_result"
    }
   ],
   "source": [
    "xtra.score(Xsc_train, y_train)"
   ]
  },
  {
   "cell_type": "code",
   "execution_count": 111,
   "metadata": {},
   "outputs": [
    {
     "data": {
      "text/plain": [
       "0.7817403708987162"
      ]
     },
     "execution_count": 111,
     "metadata": {},
     "output_type": "execute_result"
    }
   ],
   "source": [
    "xtra.score(Xsc_test, y_test)"
   ]
  },
  {
   "cell_type": "markdown",
   "metadata": {},
   "source": [
    "### Gradient Boost"
   ]
  },
  {
   "cell_type": "code",
   "execution_count": 112,
   "metadata": {},
   "outputs": [],
   "source": [
    "gboost = GradientBoostingClassifier()"
   ]
  },
  {
   "cell_type": "code",
   "execution_count": 113,
   "metadata": {},
   "outputs": [
    {
     "data": {
      "text/plain": [
       "GradientBoostingClassifier()"
      ]
     },
     "execution_count": 113,
     "metadata": {},
     "output_type": "execute_result"
    }
   ],
   "source": [
    "gboost.fit(Xsc_train, y_train)"
   ]
  },
  {
   "cell_type": "code",
   "execution_count": 114,
   "metadata": {},
   "outputs": [
    {
     "data": {
      "text/plain": [
       "0.8516405135520685"
      ]
     },
     "execution_count": 114,
     "metadata": {},
     "output_type": "execute_result"
    }
   ],
   "source": [
    "gboost.score(Xsc_train, y_train)"
   ]
  },
  {
   "cell_type": "code",
   "execution_count": 115,
   "metadata": {},
   "outputs": [
    {
     "data": {
      "text/plain": [
       "0.809455879356022"
      ]
     },
     "execution_count": 115,
     "metadata": {},
     "output_type": "execute_result"
    }
   ],
   "source": [
    "gboost.score(Xsc_test, y_test)"
   ]
  },
  {
   "cell_type": "markdown",
   "metadata": {},
   "source": [
    "### Xtra Gradient Boost"
   ]
  },
  {
   "cell_type": "code",
   "execution_count": 116,
   "metadata": {},
   "outputs": [],
   "source": [
    "xgb_model = xgb.XGBClassifier(objective=\"multi:softmax\", random_state=42)"
   ]
  },
  {
   "cell_type": "code",
   "execution_count": 117,
   "metadata": {},
   "outputs": [
    {
     "name": "stderr",
     "output_type": "stream",
     "text": [
      "/Users/trevorodonnell/opt/anaconda3/lib/python3.8/site-packages/xgboost/sklearn.py:1146: UserWarning: The use of label encoder in XGBClassifier is deprecated and will be removed in a future release. To remove this warning, do the following: 1) Pass option use_label_encoder=False when constructing XGBClassifier object; and 2) Encode your labels (y) as integers starting with 0, i.e. 0, 1, 2, ..., [num_class - 1].\n",
      "  warnings.warn(label_encoder_deprecation_msg, UserWarning)\n"
     ]
    },
    {
     "name": "stdout",
     "output_type": "stream",
     "text": [
      "[18:58:42] WARNING: /Users/travis/build/dmlc/xgboost/src/learner.cc:1095: Starting in XGBoost 1.3.0, the default evaluation metric used with the objective 'multi:softprob' was changed from 'merror' to 'mlogloss'. Explicitly set eval_metric if you'd like to restore the old behavior.\n"
     ]
    },
    {
     "data": {
      "text/plain": [
       "XGBClassifier(base_score=0.5, booster='gbtree', colsample_bylevel=1,\n",
       "              colsample_bynode=1, colsample_bytree=1, gamma=0, gpu_id=-1,\n",
       "              importance_type='gain', interaction_constraints='',\n",
       "              learning_rate=0.300000012, max_delta_step=0, max_depth=6,\n",
       "              min_child_weight=1, missing=nan, monotone_constraints='()',\n",
       "              n_estimators=100, n_jobs=8, num_parallel_tree=1,\n",
       "              objective='multi:softprob', random_state=42, reg_alpha=0,\n",
       "              reg_lambda=1, scale_pos_weight=None, subsample=1,\n",
       "              tree_method='exact', validate_parameters=1, verbosity=None)"
      ]
     },
     "execution_count": 117,
     "metadata": {},
     "output_type": "execute_result"
    }
   ],
   "source": [
    "xgb_model.fit(Xsc_train, y_train)"
   ]
  },
  {
   "cell_type": "code",
   "execution_count": 118,
   "metadata": {},
   "outputs": [
    {
     "data": {
      "text/plain": [
       "(0.9790775083214456, 0.8053800692887711)"
      ]
     },
     "execution_count": 118,
     "metadata": {},
     "output_type": "execute_result"
    }
   ],
   "source": [
    "xgb_model.score(Xsc_train, y_train), xgb_model.score(Xsc_test, y_test)"
   ]
  }
 ],
 "metadata": {
  "kernelspec": {
   "display_name": "Python 3",
   "language": "python",
   "name": "python3"
  },
  "language_info": {
   "codemirror_mode": {
    "name": "ipython",
    "version": 3
   },
   "file_extension": ".py",
   "mimetype": "text/x-python",
   "name": "python",
   "nbconvert_exporter": "python",
   "pygments_lexer": "ipython3",
   "version": "3.8.5"
  }
 },
 "nbformat": 4,
 "nbformat_minor": 4
}
